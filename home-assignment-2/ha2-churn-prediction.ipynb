{
 "cells": [
  {
   "cell_type": "markdown",
   "id": "f4dd5721",
   "metadata": {},
   "source": [
    "# Download the data"
   ]
  },
  {
   "cell_type": "code",
   "execution_count": null,
   "id": "60d506ae",
   "metadata": {},
   "outputs": [],
   "source": [
    "# https://www.kaggle.com/datasets/sakshigoyal7/credit-card-customers"
   ]
  },
  {
   "cell_type": "code",
   "execution_count": null,
   "id": "8b5c30b1",
   "metadata": {},
   "outputs": [],
   "source": [
    "# !kaggle datasets download -d sakshigoyal7/credit-card-customers"
   ]
  },
  {
   "cell_type": "code",
   "execution_count": null,
   "id": "92d687c1",
   "metadata": {},
   "outputs": [],
   "source": [
    "# ls"
   ]
  },
  {
   "cell_type": "code",
   "execution_count": null,
   "id": "bbef17ac",
   "metadata": {},
   "outputs": [],
   "source": [
    "# !unzip credit-card-customers.zip"
   ]
  },
  {
   "cell_type": "code",
   "execution_count": null,
   "id": "85690076",
   "metadata": {},
   "outputs": [],
   "source": [
    "# ls"
   ]
  },
  {
   "cell_type": "markdown",
   "id": "f09dbf81",
   "metadata": {},
   "source": [
    "# Read the data"
   ]
  },
  {
   "cell_type": "code",
   "execution_count": null,
   "id": "144628f0",
   "metadata": {},
   "outputs": [],
   "source": [
    "import pandas as pd"
   ]
  },
  {
   "cell_type": "code",
   "execution_count": null,
   "id": "316c60dc",
   "metadata": {},
   "outputs": [],
   "source": [
    "df = pd.read_csv('BankChurners.csv')\n",
    "\n",
    "# We will drop two last columns from the table\n",
    "df = df.drop([\n",
    "    'Naive_Bayes_Classifier_Attrition_Flag_Card_Category_Contacts_Count_12_mon_Dependent_count_Education_Level_Months_Inactive_12_mon_1',\n",
    "    'Naive_Bayes_Classifier_Attrition_Flag_Card_Category_Contacts_Count_12_mon_Dependent_count_Education_Level_Months_Inactive_12_mon_2'], \n",
    "    axis=1)"
   ]
  },
  {
   "cell_type": "code",
   "execution_count": null,
   "id": "08732d15",
   "metadata": {},
   "outputs": [],
   "source": [
    "df.head(3)"
   ]
  },
  {
   "cell_type": "markdown",
   "id": "a5ab9bbc",
   "metadata": {},
   "source": [
    "# Columns description\n",
    "\n",
    "- CLIENTNUM - Client number. Unique identifier for the customer holding the account\n",
    "- Attrition_Flag - Internal event (customer activity) variable, Existing Customer or Attrited Customer\n",
    "- Customer_Age - Demographic variable - Customer's Age in Years\n",
    "- Gender - Demographic variable - M=Male, F=Female\n",
    "- Dependent_count - Demographic variable - Number of dependents\n",
    "- Education_Level - Demographic variable - Educational Qualification of the account holder (example: high school, college graduate, etc.)\n",
    "- Marital_Status - Demographic variable - Married, Single, Divorced, Unknown\n",
    "- Income_Category - Demographic variable - Annual Income Category of the account holder (< $40K, $40K - 60K, $60K - $80K, $80K-$120K, > \n",
    "- Card_Category - Product Variable - Type of Card (Blue, Silver, Gold, Platinum)\n",
    "- Months_on_book - Period of relationship with bank\n",
    "- Total_Relationship_Count - Total no. of products held by the customer\n",
    "- Months_Inactive_12_mon - No. of months inactive in the last 12 months\n",
    "- Contacts_Count_12_mon - No. of Contacts in the last 12 months\n",
    "- Credit_Limit - Credit Limit on the Credit Card\n",
    "- Total_Revolving_Bal - Total Revolving Balance on the Credit Card\n",
    "- Avg_Open_To_Buy - Open to Buy Credit Line (Average of last 12 months)\n",
    "- Total_Amt_Chng_Q4_Q1 - Change in Transaction Amount (Q4 over Q1) \n",
    "- Total_Trans_Amt - Total Transaction Amount (Last 12 months)\n",
    "- Total_Trans_Ct - Total Transaction Count (Last 12 months)\n",
    "- Total_Ct_Chng_Q4_Q1 - Change in Transaction Count (Q4 over Q1) \n",
    "- Avg_Utilization_Ratio - Average Card Utilization Ratio\n",
    "\n",
    "Your goal is to predict whether the client will churn or not. "
   ]
  },
  {
   "cell_type": "code",
   "execution_count": null,
   "id": "36279dd6",
   "metadata": {},
   "outputs": [],
   "source": []
  },
  {
   "cell_type": "markdown",
   "id": "1fb23b1d",
   "metadata": {},
   "source": [
    "# 1. What is the target column?\n",
    "\n",
    "- Attrition_Flag\n",
    "- Marital_Status\n",
    "- Gender\n",
    "- Months_on_book\n",
    "- Avg_Utilization_Ratio"
   ]
  },
  {
   "cell_type": "code",
   "execution_count": null,
   "id": "b7210854",
   "metadata": {},
   "outputs": [],
   "source": []
  },
  {
   "cell_type": "code",
   "execution_count": null,
   "id": "3a48a0ac",
   "metadata": {},
   "outputs": [],
   "source": []
  },
  {
   "cell_type": "markdown",
   "id": "38f9812a",
   "metadata": {},
   "source": [
    "# 2. Transform target column\n",
    "\n",
    "Transform target column to 1/0 format, 1 if the client will churn, 0 otherwise. What is the percetange of churned customers?"
   ]
  },
  {
   "cell_type": "code",
   "execution_count": null,
   "id": "54045256",
   "metadata": {},
   "outputs": [],
   "source": []
  },
  {
   "cell_type": "code",
   "execution_count": null,
   "id": "4d4033bd",
   "metadata": {},
   "outputs": [],
   "source": []
  },
  {
   "cell_type": "markdown",
   "id": "e584792b",
   "metadata": {},
   "source": [
    "# Drop `CLIENTNUM` column, as all clients are unique"
   ]
  },
  {
   "cell_type": "code",
   "execution_count": null,
   "id": "6b5341a2",
   "metadata": {},
   "outputs": [],
   "source": [
    "df = df.drop('CLIENTNUM', axis=1)"
   ]
  },
  {
   "cell_type": "code",
   "execution_count": null,
   "id": "5d9ba115",
   "metadata": {},
   "outputs": [],
   "source": []
  },
  {
   "cell_type": "markdown",
   "id": "55b42e0d",
   "metadata": {},
   "source": [
    "# 3. Analyse columns, which are numerical, which are categorical?\n",
    "\n",
    "How many numerical and categorical columns do you have (excluding target variable)\n"
   ]
  },
  {
   "cell_type": "code",
   "execution_count": null,
   "id": "877bdc4b",
   "metadata": {},
   "outputs": [],
   "source": []
  },
  {
   "cell_type": "markdown",
   "id": "f66c16da",
   "metadata": {},
   "source": [
    "# 4. Perform EDA (optional)\n",
    "\n",
    "Plot 1-5 Graphs looking for interesting data patterns. Each graph must contain a short description. You can use ChatGPT to generate ideas for graphs. If you use ChatGPT include your prompt into the document. Each of 5 graphs worth 1 point.\n",
    "\n",
    "Checklist:\n",
    "1. For each graph:\n",
    "    1. Graph\n",
    "        - has title\n",
    "        - has labels for OX and OY \n",
    "        - has legend\n",
    "    2. Graph description (<100 words)\n",
    "    3. ChatGPT prompt included (if you've used one)\n",
    "2. All graphs in a single pdf document\n",
    "\n",
    "Put all graphs into a single doc file, save it as pdf and upload to the google form. For reference, this whole text is 105 words."
   ]
  },
  {
   "cell_type": "code",
   "execution_count": null,
   "id": "ca5472e3",
   "metadata": {},
   "outputs": [],
   "source": []
  },
  {
   "cell_type": "markdown",
   "id": "9eda4c7e",
   "metadata": {},
   "source": [
    "#  5. What are the different ways to handle categorical columns?\n",
    "\n",
    "\n",
    "Before training machine learning algorithm we need to convert categorical columns\n",
    "\n"
   ]
  },
  {
   "cell_type": "code",
   "execution_count": null,
   "id": "8455e36f",
   "metadata": {},
   "outputs": [],
   "source": []
  },
  {
   "cell_type": "markdown",
   "id": "588def7a",
   "metadata": {},
   "source": [
    "# 6. Encode categorical columns with 1-hot encoding\n",
    "\n",
    "How many binary columns after encoding do you have? Use `OneHotEncoder` from `slearn.preprocessing` module with `sparse=False` parameter. See example below.\n"
   ]
  },
  {
   "cell_type": "code",
   "execution_count": null,
   "id": "f4f05693",
   "metadata": {},
   "outputs": [],
   "source": [
    "# Example dataframe\n",
    "df_example = pd.DataFrame([['Male', 1], ['Female', 3], ['Female', 2]], columns=['Sex', 'Age'])\n",
    "df_example"
   ]
  },
  {
   "cell_type": "code",
   "execution_count": null,
   "id": "909f41cb",
   "metadata": {},
   "outputs": [],
   "source": [
    "from sklearn.preprocessing import OneHotEncoder\n",
    "\n",
    "# Set names of categorical columns\n",
    "categorical_columns = ['Sex']\n",
    "\n",
    "# Create OneHotEncoder object\n",
    "encoder = OneHotEncoder(sparse=False)\n",
    "\n",
    "# Transform categorical columns and save them into array\n",
    "cat_encoded = encoder.fit_transform(df_example[categorical_columns],)\n",
    "\n",
    "# Save categorical columns to pandas.DataFrame, with correct column names\n",
    "df_encoded = pd.DataFrame(cat_encoded, columns=encoder.get_feature_names_out(categorical_columns))\n",
    "\n",
    "# Check the resulting DataFrame\n",
    "df_encoded.head()"
   ]
  },
  {
   "cell_type": "code",
   "execution_count": null,
   "id": "f745281f",
   "metadata": {},
   "outputs": [],
   "source": []
  },
  {
   "cell_type": "markdown",
   "id": "8b6cc885",
   "metadata": {},
   "source": [
    "# Drop original categorical columns and concat encoded with the numerical columns\n",
    "\n",
    "assuming your encoded columns are in `df_encoded` variable"
   ]
  },
  {
   "cell_type": "code",
   "execution_count": null,
   "id": "891e197a",
   "metadata": {},
   "outputs": [],
   "source": [
    "df = df.drop(categorical_columns, axis=1)"
   ]
  },
  {
   "cell_type": "code",
   "execution_count": null,
   "id": "8137f458",
   "metadata": {},
   "outputs": [],
   "source": [
    "df = pd.concat([df, df_encoded], axis=1)"
   ]
  },
  {
   "cell_type": "code",
   "execution_count": null,
   "id": "3939ce27",
   "metadata": {},
   "outputs": [],
   "source": []
  },
  {
   "cell_type": "markdown",
   "id": "36ee19fa",
   "metadata": {},
   "source": [
    "# 7. Split data intro train and test parts\n",
    "\n",
    "Set the size of the test set to 30%, use startification over the target column (to preserve target ratio in train and test sets). Use `random_state=10`. How many observations do you have in your test set?\n"
   ]
  },
  {
   "cell_type": "code",
   "execution_count": null,
   "id": "c85ecb2b",
   "metadata": {},
   "outputs": [],
   "source": [
    "from sklearn.model_selection import train_test_split"
   ]
  },
  {
   "cell_type": "code",
   "execution_count": null,
   "id": "5bd2293f",
   "metadata": {},
   "outputs": [],
   "source": [
    "df_train, df_test = ... "
   ]
  },
  {
   "cell_type": "code",
   "execution_count": null,
   "id": "fcc7265c",
   "metadata": {},
   "outputs": [],
   "source": []
  },
  {
   "cell_type": "markdown",
   "id": "b3e0e1aa",
   "metadata": {},
   "source": [
    "# 8. This is a binary classification problem with  imbalanced classes, what are the appropriate metrics for this task?\n",
    "\n",
    "select all which apply\n",
    "\n",
    "- accuracy score\n",
    "- roc auc score\n",
    "- f1 score\n",
    "- mean absolute error\n",
    "- r-squared\n",
    "- precision"
   ]
  },
  {
   "cell_type": "code",
   "execution_count": null,
   "id": "533c9589",
   "metadata": {},
   "outputs": [],
   "source": []
  },
  {
   "cell_type": "markdown",
   "id": "6b8da5d3",
   "metadata": {},
   "source": [
    "# 9. Train a Random Forest Classifier on a `train` set\n",
    "\n",
    "Use RandomForestClassifier with default hyperparameters. What is the f1 score of a trained model on a test set?"
   ]
  },
  {
   "cell_type": "code",
   "execution_count": null,
   "id": "65d83f0d",
   "metadata": {},
   "outputs": [],
   "source": [
    "from sklearn.ensemble import RandomForestClassifier"
   ]
  },
  {
   "cell_type": "code",
   "execution_count": null,
   "id": "c3204473",
   "metadata": {},
   "outputs": [],
   "source": [
    "# y_pred_rf = model.predict_proba(...)"
   ]
  },
  {
   "cell_type": "code",
   "execution_count": null,
   "id": "3d98d407",
   "metadata": {},
   "outputs": [],
   "source": []
  },
  {
   "cell_type": "markdown",
   "id": "6ef2763d",
   "metadata": {},
   "source": [
    "# 10. Build a confusion matrix with a default probability threshold (0.5)\n",
    "\n",
    "To analyse the resulting algorithm we will take a closer look on individual predictions. How many False Positives and False Negatives do you have?\n"
   ]
  },
  {
   "cell_type": "code",
   "execution_count": null,
   "id": "1f345e52",
   "metadata": {},
   "outputs": [],
   "source": [
    "from sklearn.metrics import confusion_matrix"
   ]
  },
  {
   "cell_type": "code",
   "execution_count": null,
   "id": "e9060e03",
   "metadata": {},
   "outputs": [],
   "source": [
    "from sklearn.metrics import confusion_matrix\n",
    "import seaborn as sns\n",
    "import matplotlib.pyplot as plt\n",
    "\n",
    "# Create confusion matrix\n",
    "cm = confusion_matrix(df_test['Attrition_Flag'], y_pred_rf[:, 1]>0.5)\n",
    "\n",
    "# Visualize the confusion matrix using seaborn\n",
    "plt.figure(figsize=(10,7))\n",
    "sns.heatmap(cm, annot=True, fmt=\"d\")\n",
    "plt.title(\"Confusion matrix\")\n",
    "plt.ylabel('True label')\n",
    "plt.xlabel('Predicted label')\n",
    "plt.show()"
   ]
  },
  {
   "cell_type": "code",
   "execution_count": null,
   "id": "8e49f5c0",
   "metadata": {},
   "outputs": [],
   "source": []
  },
  {
   "cell_type": "markdown",
   "id": "a3d8da38",
   "metadata": {},
   "source": [
    "# 11. We will change probability threshold from 0.05 to 0.95 with step 0.05\n",
    "\n",
    "What happens to the number of True Positives and to the number of False Negatives, as you increase the probability threshold?\n"
   ]
  },
  {
   "cell_type": "code",
   "execution_count": null,
   "id": "477073d5",
   "metadata": {},
   "outputs": [],
   "source": [
    "import numpy as np"
   ]
  },
  {
   "cell_type": "code",
   "execution_count": null,
   "id": "d35f7116",
   "metadata": {},
   "outputs": [],
   "source": [
    "true_positives = []\n",
    "false_negatives = []\n",
    "for t in np.linspace(0.05,0.95,19):\n",
    "    cm = confusion_matrix(df_test['Attrition_Flag'], y_pred_rf[:, 1]>t)\n",
    "    tp, fn = cm[1,1], cm[1,0]\n",
    "    true_positives.append(tp)\n",
    "    false_negatives.append(fn)"
   ]
  },
  {
   "cell_type": "code",
   "execution_count": null,
   "id": "1436bec9",
   "metadata": {},
   "outputs": [],
   "source": [
    "plt.plot(np.linspace(0.05,0.95,19), true_positives, label='True Positives')\n",
    "plt.plot(np.linspace(0.05,0.95,19), false_negatives, label='False Negatives')\n",
    "plt.xlabel('Probability threshold')\n",
    "plt.ylabel('# observations')\n",
    "plt.legend();"
   ]
  },
  {
   "cell_type": "code",
   "execution_count": null,
   "id": "8b8fc1a5",
   "metadata": {},
   "outputs": [],
   "source": []
  },
  {
   "cell_type": "markdown",
   "id": "822be055",
   "metadata": {},
   "source": [
    "# 12. Estimate revenue\n",
    "\n",
    "Let's consider a toy economic setup:\n",
    "1. Each client earns a company $50\\$$ per month\n",
    "2. If you predict that a client will churn, the company can provide she with a discount of $200\\$$ and the client will stay for another year\n",
    "\n",
    "If the company do nothing (has no Churn model), then the revenue over the year will be:\n",
    "\n",
    "$$S = N*50*12 + P*0$$\n",
    "\n",
    "where N (negative) is number of non-Churn clients, and P (positive) is number of clients who Churn. If the company implements some Churn model, the revenue will be the following:\n",
    "\n",
    "$$S = TN*50*12 + FP*(50*12-200) + TP*(50*12-200)  + FN * 0$$\n",
    "\n",
    "where \n",
    "- TN are non-Churning clients, predicted as non-Churning (true negatives)\n",
    "- FP are non-Churning clients, predicted as Churning (false positives)\n",
    "- TP are Churning clients, predicted as Churning (true positives)\n",
    "- FN are Churning clients, predicted as non-Churning (false negatives)\n",
    "\n",
    "## Compute the revenue for different thresholds based on your model, what is the optimal probability threshold? Report two numbers divided by a comma, e.g. `0.5,1500000`"
   ]
  },
  {
   "cell_type": "code",
   "execution_count": null,
   "id": "da433bed",
   "metadata": {},
   "outputs": [],
   "source": [
    "profit = []\n",
    "for t in np.linspace(0.05,0.95,19):\n",
    "    cm = confusion_matrix(df_test['Attrition_Flag'], y_pred_rf[:, 1]>t)\n",
    "    tn, fp, tp, fn = cm[0,0], cm[0,1], cm[1,1], cm[1,0]\n",
    "    S = tn*50*12 + fp*(50*12-200) + tp*(50*12-200) \n",
    "    profit.append(S)"
   ]
  },
  {
   "cell_type": "code",
   "execution_count": null,
   "id": "e6256091",
   "metadata": {},
   "outputs": [],
   "source": [
    "plt.plot(np.linspace(0.05,0.95,19), profit);\n",
    "plt.xlabel('Probability')\n",
    "plt.ylabel('Revenue, mln $');"
   ]
  },
  {
   "cell_type": "code",
   "execution_count": null,
   "id": "7e56a4ac",
   "metadata": {},
   "outputs": [],
   "source": []
  },
  {
   "cell_type": "code",
   "execution_count": null,
   "id": "69e2b704",
   "metadata": {},
   "outputs": [],
   "source": []
  },
  {
   "cell_type": "markdown",
   "id": "c4abf7ce",
   "metadata": {},
   "source": [
    "# 13. Compute economic value\n",
    "\n",
    "Is there any economic value from introducing a ML model (compared to not using a model and not providing a discounts)?\n",
    "\n",
    "First scenario - no ML model, no discounts; Second scenario - ML model from question 12."
   ]
  },
  {
   "cell_type": "code",
   "execution_count": null,
   "id": "53c5a2d3",
   "metadata": {},
   "outputs": [],
   "source": []
  },
  {
   "cell_type": "code",
   "execution_count": null,
   "id": "34416519",
   "metadata": {},
   "outputs": [],
   "source": []
  },
  {
   "cell_type": "code",
   "execution_count": null,
   "id": "e3986ea6",
   "metadata": {},
   "outputs": [],
   "source": []
  },
  {
   "cell_type": "markdown",
   "id": "515bc968",
   "metadata": {},
   "source": [
    "# 14. Build a confusion matrix\n",
    "\n",
    "assosiated with an optimal probability threshold. What happend to the number of False Positives and False Negatives, compared to the default probability threshold (question 10)?"
   ]
  },
  {
   "cell_type": "code",
   "execution_count": null,
   "id": "36775560",
   "metadata": {},
   "outputs": [],
   "source": []
  },
  {
   "cell_type": "code",
   "execution_count": null,
   "id": "300ecf80",
   "metadata": {},
   "outputs": [],
   "source": []
  },
  {
   "cell_type": "code",
   "execution_count": null,
   "id": "1e737844",
   "metadata": {},
   "outputs": [],
   "source": []
  },
  {
   "cell_type": "markdown",
   "id": "d5810b7c",
   "metadata": {},
   "source": [
    "# 15. What if the price to keep the client goes up to 500?\n",
    "\n",
    "Does optimal probability treshold changes?"
   ]
  },
  {
   "cell_type": "code",
   "execution_count": null,
   "id": "fccb8269",
   "metadata": {},
   "outputs": [],
   "source": []
  },
  {
   "cell_type": "code",
   "execution_count": null,
   "id": "2d9869cc",
   "metadata": {},
   "outputs": [],
   "source": []
  },
  {
   "cell_type": "markdown",
   "id": "09215063",
   "metadata": {},
   "source": [
    "# 16. Built an assosiated confusion matrix\n",
    "\n",
    "How many False Positives and False Negatives do you have?"
   ]
  },
  {
   "cell_type": "code",
   "execution_count": null,
   "id": "610910b5",
   "metadata": {},
   "outputs": [],
   "source": []
  },
  {
   "cell_type": "markdown",
   "id": "ad2666f9",
   "metadata": {},
   "source": [
    "# 17. Compare confusion matrices from 14 and 16\n",
    "\n"
   ]
  },
  {
   "cell_type": "code",
   "execution_count": null,
   "id": "30d5c9e9",
   "metadata": {},
   "outputs": [],
   "source": []
  },
  {
   "cell_type": "markdown",
   "id": "c6ff7a49",
   "metadata": {},
   "source": [
    "# 18. Train catboost\n",
    "\n",
    "Train a catboost.CatBoostClassifier on a **unprocessed data** (no preprocessing for categorical columns) with default hyperparameters, see example below."
   ]
  },
  {
   "cell_type": "code",
   "execution_count": null,
   "id": "60c1781a",
   "metadata": {},
   "outputs": [],
   "source": [
    "df = pd.read_csv('BankChurners.csv')\n",
    "\n",
    "# We will drop two last columns from the table\n",
    "df = df.drop([\n",
    "    'CLIENTNUM',\n",
    "    'Naive_Bayes_Classifier_Attrition_Flag_Card_Category_Contacts_Count_12_mon_Dependent_count_Education_Level_Months_Inactive_12_mon_1',\n",
    "    'Naive_Bayes_Classifier_Attrition_Flag_Card_Category_Contacts_Count_12_mon_Dependent_count_Education_Level_Months_Inactive_12_mon_2'], \n",
    "    axis=1)"
   ]
  },
  {
   "cell_type": "code",
   "execution_count": null,
   "id": "8fbb9611",
   "metadata": {},
   "outputs": [],
   "source": [
    "from catboost import CatBoostClassifier"
   ]
  },
  {
   "cell_type": "code",
   "execution_count": null,
   "id": "23d1dbaa",
   "metadata": {},
   "outputs": [],
   "source": [
    "df_train, df_test = train_test_split(df, test_size=0.3, stratify=df['Attrition_Flag'])"
   ]
  },
  {
   "cell_type": "code",
   "execution_count": null,
   "id": "aa163b02",
   "metadata": {},
   "outputs": [],
   "source": [
    "categorical_columns = [...] # put all categorical columns names instead of ..."
   ]
  },
  {
   "cell_type": "code",
   "execution_count": null,
   "id": "b942fa0d",
   "metadata": {},
   "outputs": [],
   "source": [
    "clf = CatBoostClassifier()"
   ]
  },
  {
   "cell_type": "code",
   "execution_count": null,
   "id": "42ece33d",
   "metadata": {},
   "outputs": [],
   "source": [
    "clf.fit(df_train.drop('Attrition_Flag', axis=1), df_train['Attrition_Flag'], cat_features=categorical_columns)"
   ]
  },
  {
   "cell_type": "code",
   "execution_count": null,
   "id": "437d4bf7",
   "metadata": {},
   "outputs": [],
   "source": []
  },
  {
   "cell_type": "code",
   "execution_count": null,
   "id": "d5181bdc",
   "metadata": {},
   "outputs": [],
   "source": []
  },
  {
   "cell_type": "code",
   "execution_count": null,
   "id": "9686aad6",
   "metadata": {},
   "outputs": [],
   "source": []
  },
  {
   "cell_type": "markdown",
   "id": "a6e2f952",
   "metadata": {},
   "source": [
    "# 19. Compute ROC AUC score for your RandomForest and Catboost model\n",
    "\n",
    "Comment on how increase/decrease in roc auc (machine learning metric) compares with increase/decrease of revenue (business metric). Propose how you could improve the economic model to make it more realistic (and how to use your ML model in this new setup). Upload a pdf, up to 500 words."
   ]
  },
  {
   "cell_type": "code",
   "execution_count": null,
   "id": "9399cbf5",
   "metadata": {},
   "outputs": [],
   "source": []
  },
  {
   "cell_type": "code",
   "execution_count": null,
   "id": "58c8bfc0",
   "metadata": {},
   "outputs": [],
   "source": []
  },
  {
   "cell_type": "markdown",
   "id": "6a049694",
   "metadata": {},
   "source": [
    "# 20. Upload your ipynb solution"
   ]
  },
  {
   "cell_type": "code",
   "execution_count": null,
   "id": "3308b344",
   "metadata": {},
   "outputs": [],
   "source": []
  },
  {
   "cell_type": "code",
   "execution_count": null,
   "id": "bb57a955",
   "metadata": {},
   "outputs": [],
   "source": []
  },
  {
   "cell_type": "code",
   "execution_count": null,
   "id": "9eb2a9e0",
   "metadata": {},
   "outputs": [],
   "source": []
  }
 ],
 "metadata": {
  "kernelspec": {
   "display_name": "Python 3 (ipykernel)",
   "language": "python",
   "name": "python3"
  },
  "language_info": {
   "codemirror_mode": {
    "name": "ipython",
    "version": 3
   },
   "file_extension": ".py",
   "mimetype": "text/x-python",
   "name": "python",
   "nbconvert_exporter": "python",
   "pygments_lexer": "ipython3",
   "version": "3.9.13"
  }
 },
 "nbformat": 4,
 "nbformat_minor": 5
}

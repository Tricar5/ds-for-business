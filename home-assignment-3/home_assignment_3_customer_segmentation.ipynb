{
 "cells": [
  {
   "cell_type": "markdown",
   "id": "d9199967",
   "metadata": {
    "id": "d9199967"
   },
   "source": [
    "https://www.kaggle.com/datasets/arjunbhasin2013/ccdata"
   ]
  },
  {
   "cell_type": "code",
   "execution_count": null,
   "id": "8d480173",
   "metadata": {
    "id": "8d480173"
   },
   "outputs": [],
   "source": [
    "import pandas as pd"
   ]
  },
  {
   "cell_type": "code",
   "execution_count": null,
   "id": "db03ce42",
   "metadata": {
    "colab": {
     "base_uri": "https://localhost:8080/",
     "height": 207
    },
    "id": "db03ce42",
    "outputId": "c5c09e21-0a60-4524-ad18-36b14996001b"
   },
   "outputs": [],
   "source": [
    "df = pd.read_csv('https://raw.githubusercontent.com/kurmukovai/ds-for-business/88ded3b36c5cc97c26756b4c62c98bbbf99deba3/2022/seminar-5/CC%20GENERAL.csv')\n",
    "df.dropna(inplace=True)\n",
    "df.head(3)"
   ]
  },
  {
   "cell_type": "markdown",
   "id": "s-MIpVg3Z4ZN",
   "metadata": {
    "id": "s-MIpVg3Z4ZN"
   },
   "source": [
    "# Credit Card dataset\n",
    "\n",
    "- CUST_ID - Identification of Credit Card holder (Categorical)\n",
    "- BALANCE - Balance amount left in their account to make purchases\n",
    "- BALANCE_FREQUENCY - How frequently the Balance is updated, score between 0 and 1 (1 = frequently updated, 0 = not frequently updated)\n",
    "- PURCHASES - Amount of purchases made from account\n",
    "- ONEOFF_PURCHASES - Maximum purchase amount done in one-go\n",
    "- INSTALLMENTS_PURCHASES - Amount of purchase done in installment\n",
    "- CASH_ADVANCE - Cash in advance given by the user\n",
    "- PURCHASES_FREQUENCY : How frequently the Purchases are being made, score between 0 and 1 (1 = frequently purchased, 0 = not frequently purchased)\n",
    "- ONEOFF_PURCHASES_FREQUENCY - How frequently Purchases are happening in one-go (1 = frequently purchased, 0 = not frequently purchased)\n",
    "- PURCHASES_INSTALLMENTS_FREQUENCY - How frequently purchases in installments are being done (1 = frequently done, 0 = not frequently done)\n",
    "- CASH_ADVANCE_FREQUENCY - How frequently the cash in advance being paid\n",
    "- CASH_ADVANCE_TRX - Number of Transactions made with \"Cash in Advanced\"\n",
    "- PURCHASES_TRX - Numbe of purchase transactions made\n",
    "- CREDIT_LIMIT - Limit of Credit Card for user\n",
    "- PAYMENTS - Amount of Payment done by user\n",
    "- MINIMUM_PAYMENTS - Minimum amount of payments made by user\n",
    "- PRC_FULL_PAYMENT - Percent of full payment paid by user\n",
    "- TENURE - Tenure of credit card service for user"
   ]
  },
  {
   "cell_type": "markdown",
   "id": "6-donAxSaoMe",
   "metadata": {
    "id": "6-donAxSaoMe"
   },
   "source": [
    "# Make customer_id to be an index"
   ]
  },
  {
   "cell_type": "code",
   "execution_count": null,
   "id": "BGobqHGPaYyb",
   "metadata": {
    "colab": {
     "base_uri": "https://localhost:8080/"
    },
    "id": "BGobqHGPaYyb",
    "outputId": "0f5fe0d1-fdae-45d8-fe79-f868f84ad8c1"
   },
   "outputs": [],
   "source": [
    "df.CUST_ID.nunique(), df.shape"
   ]
  },
  {
   "cell_type": "code",
   "execution_count": null,
   "id": "6eb01082",
   "metadata": {
    "colab": {
     "base_uri": "https://localhost:8080/",
     "height": 239
    },
    "id": "6eb01082",
    "outputId": "84eeb851-749e-4e0a-ba9b-cab07d6992b4"
   },
   "outputs": [],
   "source": [
    "df.index = df['CUST_ID']\n",
    "df = df.drop('CUST_ID', axis=1)\n",
    "df.head(3)"
   ]
  },
  {
   "cell_type": "markdown",
   "id": "S1mD2dgcbAWT",
   "metadata": {
    "id": "S1mD2dgcbAWT"
   },
   "source": [
    "# Start with basic EDA"
   ]
  },
  {
   "cell_type": "code",
   "execution_count": null,
   "id": "BdlebgjIa906",
   "metadata": {
    "colab": {
     "base_uri": "https://localhost:8080/",
     "height": 207
    },
    "id": "BdlebgjIa906",
    "outputId": "e3e30301-4a6c-4d3c-8f91-b4a39e268424"
   },
   "outputs": [],
   "source": [
    "df.head(3)"
   ]
  },
  {
   "cell_type": "markdown",
   "id": "rbRZLkA-QZCe",
   "metadata": {
    "id": "rbRZLkA-QZCe"
   },
   "source": [
    "# 1. Plot features distribution\n",
    "\n",
    "- Plot a 3 by 6 plot with each subplot representing a  histogramm of features' distribution (e.g. using `plt.subplots(...)`). \n",
    "- Add title for each subplot, and format its fontsize.\n",
    "- Remove last (empty) subplot or make it invisible\n",
    "\n",
    "save the resulting graph to pdf and upload to the reporting form."
   ]
  },
  {
   "cell_type": "code",
   "execution_count": null,
   "id": "v12KRP9TbRiG",
   "metadata": {
    "id": "v12KRP9TbRiG"
   },
   "outputs": [],
   "source": [
    "import matplotlib.pyplot as plt"
   ]
  },
  {
   "cell_type": "code",
   "execution_count": null,
   "id": "58938a00",
   "metadata": {},
   "outputs": [],
   "source": []
  },
  {
   "cell_type": "code",
   "execution_count": null,
   "id": "1bbfb07c",
   "metadata": {},
   "outputs": [],
   "source": []
  },
  {
   "cell_type": "markdown",
   "id": "4iv57ShiRjM8",
   "metadata": {
    "id": "4iv57ShiRjM8"
   },
   "source": [
    "# 2. Preprocess features\n",
    "\n",
    "All clustering algorithms requires some kind of feature standartization.\n",
    "We will use standartization (or \"z-scoring\"):\n",
    "\n",
    "$$X_{std} = \\frac{X - mean(X)}{std(X)}$$\n",
    "\n",
    "What is the mean of all columns in `X_std`? What is the standard deviation of all columns in `X_std`?\n"
   ]
  },
  {
   "cell_type": "markdown",
   "id": "YhWmtCDOTA6O",
   "metadata": {
    "id": "YhWmtCDOTA6O"
   },
   "source": [
    "## Scientific notation\n",
    "\n",
    "Recall that sometimes Python uses a so-called scientific notation for small numbers, e.g. notation `6.993531e-17` by definition is: \n",
    "\n",
    "$$6.993531 \\cdot 10^{-17} = \\frac{6.993531}{10^{17}} = 0.00000000000000006993531$$.\n",
    "\n",
    "For more details, see https://sparrow.dev/python-scientific-notation/ .\n",
    "\n",
    "For the purposes of this home assignment all numbers with absolute value smaller than $0.000001$ are effectively $0$."
   ]
  },
  {
   "cell_type": "code",
   "execution_count": null,
   "id": "5070a606",
   "metadata": {},
   "outputs": [],
   "source": [
    "X_standardized = ..."
   ]
  },
  {
   "cell_type": "code",
   "execution_count": null,
   "id": "a403ef3f",
   "metadata": {},
   "outputs": [],
   "source": []
  },
  {
   "cell_type": "markdown",
   "id": "5f597d94",
   "metadata": {
    "id": "5f597d94"
   },
   "source": [
    "# 3. KMeans\n",
    "\n",
    "What does K in KMeans means?\n"
   ]
  },
  {
   "cell_type": "code",
   "execution_count": null,
   "id": "k4XlxepaVYYV",
   "metadata": {
    "id": "k4XlxepaVYYV"
   },
   "outputs": [],
   "source": []
  },
  {
   "cell_type": "markdown",
   "id": "5uyHBHgkVZvw",
   "metadata": {
    "id": "5uyHBHgkVZvw"
   },
   "source": [
    "# Run KMeans with 5 clusters"
   ]
  },
  {
   "cell_type": "code",
   "execution_count": null,
   "id": "3a6dc590",
   "metadata": {},
   "outputs": [],
   "source": [
    "import numpy as np\n",
    "from tqdm import tqdm\n",
    "from sklearn.cluster import KMeans\n",
    "from sklearn.metrics import adjusted_rand_score"
   ]
  },
  {
   "cell_type": "code",
   "execution_count": null,
   "id": "7579e6d4",
   "metadata": {},
   "outputs": [],
   "source": [
    "kmeans = KMeans(n_clusters=5, n_init='auto')\n",
    "labels = kmeans.fit_predict(X_standardized)"
   ]
  },
  {
   "cell_type": "code",
   "execution_count": null,
   "id": "84868a5b",
   "metadata": {},
   "outputs": [],
   "source": [
    "np.unique(labels, return_counts=True)"
   ]
  },
  {
   "cell_type": "markdown",
   "id": "8924aba5",
   "metadata": {},
   "source": [
    "# 4. Run Kmeans with different number of clusters\n",
    "\n",
    "\n",
    "Which number of clusters is optimal according to silhouette score?\n"
   ]
  },
  {
   "cell_type": "code",
   "execution_count": null,
   "id": "y5Yoow8ZVgPG",
   "metadata": {
    "id": "y5Yoow8ZVgPG"
   },
   "outputs": [],
   "source": [
    "def run_kmeans(x, kmin=2, kmax=20):\n",
    "    inertia = []\n",
    "    for k in tqdm(range(kmin, kmax+1)):\n",
    "        kmeans = KMeans(n_clusters=k, n_init='auto')\n",
    "        kmeans.fit(x)\n",
    "        results_df[f'clusters_kmeans_{k}'] = kmeans.predict(x)\n",
    "        inertia.append(kmeans.inertia_)\n",
    "    return inertia"
   ]
  },
  {
   "cell_type": "code",
   "execution_count": null,
   "id": "c7f6ea5c",
   "metadata": {
    "colab": {
     "base_uri": "https://localhost:8080/"
    },
    "id": "c7f6ea5c",
    "outputId": "67507180-6fc2-4398-e462-feec35269934"
   },
   "outputs": [],
   "source": [
    "results_df = pd.DataFrame()\n",
    "kmin, kmax = 2, 20\n",
    "n_clusters = range(kmin, kmax+1)\n",
    "\n",
    "# standardized\n",
    "inertia = run_kmeans(X_standardized, kmin, kmax)"
   ]
  },
  {
   "cell_type": "code",
   "execution_count": null,
   "id": "8e3d03a4",
   "metadata": {
    "colab": {
     "base_uri": "https://localhost:8080/",
     "height": 449
    },
    "id": "8e3d03a4",
    "outputId": "76b1072f-35e0-488b-e9be-f9ffbbd5b0e0"
   },
   "outputs": [],
   "source": [
    "plt.plot(n_clusters, inertia);\n",
    "plt.xlabel('Number of clusters')\n",
    "plt.ylabel('Inertia');"
   ]
  },
  {
   "cell_type": "code",
   "execution_count": null,
   "id": "hncKLREqXDt3",
   "metadata": {
    "id": "hncKLREqXDt3"
   },
   "outputs": [],
   "source": [
    "from plot_utils import plot_silhouette\n",
    "# if you run in google colab copy-paste code from `plot_utils.py` into a notebook cell"
   ]
  },
  {
   "cell_type": "code",
   "execution_count": null,
   "id": "80xYefusaMBe",
   "metadata": {
    "colab": {
     "base_uri": "https://localhost:8080/",
     "height": 1000
    },
    "id": "80xYefusaMBe",
    "outputId": "57001644-2e68-4216-876c-a5919ecdc972",
    "scrolled": false
   },
   "outputs": [],
   "source": [
    "plot_silhouette(X_standardized, kmin=4, kmax=21, step=4)"
   ]
  },
  {
   "cell_type": "code",
   "execution_count": null,
   "id": "845bd8ee",
   "metadata": {
    "id": "845bd8ee"
   },
   "outputs": [],
   "source": []
  },
  {
   "cell_type": "markdown",
   "id": "40ad2e28",
   "metadata": {
    "id": "40ad2e28"
   },
   "source": [
    "# 5. Hierarchical clustering\n",
    "\n",
    "What is hieararchical clustering?\n"
   ]
  },
  {
   "cell_type": "code",
   "execution_count": null,
   "id": "ed5953a0",
   "metadata": {},
   "outputs": [],
   "source": []
  },
  {
   "cell_type": "markdown",
   "id": "5c47311d",
   "metadata": {},
   "source": [
    "# 6. Run hierarchical clustering\n",
    "\n",
    "with different types of linkage looking for 8-12 clusters (choose one number):\n",
    " - \"single\"\n",
    " - \"complete\"\n",
    " - \"ward\"\n",
    " - \"average\"\n",
    " \n",
    "For each type of linkage print sizes of the resulting clusters. Which of the linkages result in a non-degenerative clustering?\n",
    "\n",
    "**Degenerative** clustering is a clustering of data into N clusters with most of the data being in a small subset of clusters, and rest of the clusters containing 1-5-10 points each.\n"
   ]
  },
  {
   "cell_type": "code",
   "execution_count": null,
   "id": "9747dc61",
   "metadata": {},
   "outputs": [],
   "source": [
    "from sklearn.cluster import AgglomerativeClustering"
   ]
  },
  {
   "cell_type": "code",
   "execution_count": null,
   "id": "2603ebd5",
   "metadata": {},
   "outputs": [],
   "source": []
  },
  {
   "cell_type": "code",
   "execution_count": null,
   "id": "e844cb9e",
   "metadata": {},
   "outputs": [],
   "source": []
  },
  {
   "cell_type": "code",
   "execution_count": null,
   "id": "7c8c1c82",
   "metadata": {},
   "outputs": [],
   "source": []
  },
  {
   "cell_type": "markdown",
   "id": "788a1200",
   "metadata": {},
   "source": [
    "# 7. Plot dendrogram\n",
    "\n",
    "for Ward linkage from the previous question what distance treshold will result in 10 clusters?\n"
   ]
  },
  {
   "cell_type": "code",
   "execution_count": null,
   "id": "c3a9cf43",
   "metadata": {},
   "outputs": [],
   "source": [
    "from plot_utils import plot_dendrogram\n",
    "# if you run in google colab copy paste code from `plot_utils.py` into a notebook cell"
   ]
  },
  {
   "cell_type": "code",
   "execution_count": null,
   "id": "ca6f2167",
   "metadata": {},
   "outputs": [],
   "source": [
    "model = AgglomerativeClustering(distance_threshold=0, n_clusters=None, linkage='ward')\n",
    "model = model.fit(X_standardized)\n",
    "\n",
    "plt.figure(figsize=(15,15))\n",
    "plt.title(\"Hierarchical Clustering Dendrogram\") \n",
    "plot_dendrogram(model, truncate_mode=\"level\", p=4)# plot the top three levels of the dendrogram\n",
    "plt.xlabel(\"Number of points in node in round brackets or an index of a point (no brackets)\")\n",
    "plt.show()"
   ]
  },
  {
   "cell_type": "code",
   "execution_count": null,
   "id": "4cb1ced2",
   "metadata": {},
   "outputs": [],
   "source": []
  },
  {
   "cell_type": "markdown",
   "id": "f0d79c6e",
   "metadata": {
    "id": "f0d79c6e"
   },
   "source": [
    "# Visualization\n",
    "\n",
    "To visualize our multi-dimensional data we will apply two differen dimensionality techniques: PCA and tSNE (\"tea-sni\")"
   ]
  },
  {
   "cell_type": "markdown",
   "id": "e0e61dea",
   "metadata": {},
   "source": [
    "# 8. Select all true statements about PCA\n"
   ]
  },
  {
   "cell_type": "code",
   "execution_count": null,
   "id": "3a1dab7d",
   "metadata": {},
   "outputs": [],
   "source": []
  },
  {
   "cell_type": "markdown",
   "id": "a0d6fa63",
   "metadata": {},
   "source": [
    "# Run PCA with 2 components\n",
    "\n",
    "Unlike kmeans and hierarchical clustering PCA only requires data centering (without data scaling)"
   ]
  },
  {
   "cell_type": "code",
   "execution_count": null,
   "id": "8d584654",
   "metadata": {},
   "outputs": [],
   "source": [
    "X_mean = df - df.mean(axis=0)"
   ]
  },
  {
   "cell_type": "code",
   "execution_count": null,
   "id": "6cb76904",
   "metadata": {
    "id": "6cb76904"
   },
   "outputs": [],
   "source": [
    "from sklearn.decomposition import PCA"
   ]
  },
  {
   "cell_type": "code",
   "execution_count": null,
   "id": "55154e04",
   "metadata": {
    "colab": {
     "base_uri": "https://localhost:8080/"
    },
    "id": "55154e04",
    "outputId": "25c70a96-afef-40a6-fa89-dd7884e32ed3"
   },
   "outputs": [],
   "source": [
    "pca = PCA(2)\n",
    "X_pca2 = pca.fit_transform(X_mean)\n",
    "print(pca.explained_variance_ratio_)\n",
    "print(pca.explained_variance_ratio_.sum())"
   ]
  },
  {
   "cell_type": "code",
   "execution_count": null,
   "id": "90cb7957",
   "metadata": {
    "colab": {
     "base_uri": "https://localhost:8080/",
     "height": 187
    },
    "id": "90cb7957",
    "outputId": "dc0b73ae-45c9-402d-e6e2-8418bf20226c"
   },
   "outputs": [],
   "source": [
    "kmeans = KMeans(n_clusters=10, n_init='auto')\n",
    "labels = kmeans.fit_predict(X_standardized)\n",
    "\n",
    "plt.scatter(X_pca2[:, 0], X_pca2[:, 1], c=labels); # Use kmeans labels for the color"
   ]
  },
  {
   "cell_type": "markdown",
   "id": "aae8d3e3",
   "metadata": {},
   "source": [
    "PCA visualizations are not always informative, we will try using TSNE, but first we need to select the optimal number of PCA components"
   ]
  },
  {
   "cell_type": "code",
   "execution_count": null,
   "id": "5fc50781",
   "metadata": {},
   "outputs": [],
   "source": []
  },
  {
   "cell_type": "markdown",
   "id": "704984d3",
   "metadata": {},
   "source": [
    "# 9. Select number of PCA components\n",
    "\n",
    "based on explained variance ratio. Which minimal number of PCA components explain **atleast 95%** of the data variance (`X_mean`)?\n"
   ]
  },
  {
   "cell_type": "markdown",
   "id": "f4962094",
   "metadata": {},
   "source": [
    "# These are the `loadings` of the very first Principle component, which explains about 47% of data variance\n"
   ]
  },
  {
   "cell_type": "code",
   "execution_count": null,
   "id": "a1c0de84",
   "metadata": {
    "colab": {
     "base_uri": "https://localhost:8080/"
    },
    "id": "a1c0de84",
    "outputId": "b9286d9f-8af4-4f53-eb42-8db6a4f51824"
   },
   "outputs": [],
   "source": [
    "components = dict(zip(df.columns, pca.components_[0]))\n",
    "components = sorted(components.items(), key=lambda x: x[1], reverse=True)\n",
    "\n",
    "for c, w in components:\n",
    "    print(c, np.round(w, 3))"
   ]
  },
  {
   "cell_type": "code",
   "execution_count": null,
   "id": "078794bb",
   "metadata": {},
   "outputs": [],
   "source": []
  },
  {
   "cell_type": "markdown",
   "id": "8e9642a4",
   "metadata": {
    "id": "d6bBXNyKfATu"
   },
   "source": [
    "# 10. Select all correct statements\n",
    "\n",
    "based on the whole PCA analysis\n"
   ]
  },
  {
   "cell_type": "code",
   "execution_count": null,
   "id": "c16f3371",
   "metadata": {
    "id": "c16f3371"
   },
   "outputs": [],
   "source": []
  },
  {
   "cell_type": "markdown",
   "id": "3c8ef26a",
   "metadata": {},
   "source": [
    "# TSNE visualization\n",
    "\n",
    "# 11. What is t-SNE?\n"
   ]
  },
  {
   "cell_type": "code",
   "execution_count": null,
   "id": "d944033f",
   "metadata": {},
   "outputs": [],
   "source": [
    "# !pip install opentsne"
   ]
  },
  {
   "cell_type": "code",
   "execution_count": null,
   "id": "097bcff4",
   "metadata": {},
   "outputs": [],
   "source": [
    "from openTSNE import TSNE\n",
    "\n",
    "pca = PCA(10)\n",
    "X_pca10 = pca.fit_transform(X_mean)\n",
    "embedding = TSNE().fit(X_pca10)"
   ]
  },
  {
   "cell_type": "code",
   "execution_count": null,
   "id": "2e0ba898",
   "metadata": {},
   "outputs": [],
   "source": [
    "plt.scatter(embedding[:, 0], embedding[:, 1]);"
   ]
  },
  {
   "cell_type": "code",
   "execution_count": null,
   "id": "5a48660d",
   "metadata": {},
   "outputs": [],
   "source": [
    "ac = AgglomerativeClustering(n_clusters=8, linkage='ward')\n",
    "prediction = ac.fit_predict(X_pca10)\n",
    "np.unique(prediction, return_counts=True)"
   ]
  },
  {
   "cell_type": "code",
   "execution_count": null,
   "id": "78e90822",
   "metadata": {},
   "outputs": [],
   "source": []
  },
  {
   "cell_type": "markdown",
   "id": "be1e9bfe",
   "metadata": {},
   "source": [
    "### tSNE with AgglomerativeClustering labels"
   ]
  },
  {
   "cell_type": "code",
   "execution_count": null,
   "id": "84e72c26",
   "metadata": {},
   "outputs": [],
   "source": [
    "plt.scatter(embedding[:, 0], embedding[:, 1], c=prediction, cmap='Paired');"
   ]
  },
  {
   "cell_type": "code",
   "execution_count": null,
   "id": "0dc76f25",
   "metadata": {},
   "outputs": [],
   "source": []
  },
  {
   "cell_type": "markdown",
   "id": "e0547664",
   "metadata": {},
   "source": [
    "### tSNE with KMeans clustering labels"
   ]
  },
  {
   "cell_type": "code",
   "execution_count": null,
   "id": "b38ea133",
   "metadata": {},
   "outputs": [],
   "source": [
    "kmeans = KMeans(n_clusters=8, n_init='auto')\n",
    "labels = kmeans.fit_predict(X_standardized)"
   ]
  },
  {
   "cell_type": "code",
   "execution_count": null,
   "id": "6ae802b6",
   "metadata": {},
   "outputs": [],
   "source": [
    "plt.scatter(embedding[:, 0], embedding[:, 1], c=labels, cmap='Paired');"
   ]
  },
  {
   "cell_type": "code",
   "execution_count": null,
   "id": "70c4c14c",
   "metadata": {},
   "outputs": [],
   "source": []
  },
  {
   "cell_type": "markdown",
   "id": "6ac9d7c3",
   "metadata": {},
   "source": [
    "# 12. Which metrics are suitable for clusterings comparison?\n",
    "\n"
   ]
  },
  {
   "cell_type": "code",
   "execution_count": null,
   "id": "e0804c3a",
   "metadata": {},
   "outputs": [],
   "source": []
  },
  {
   "cell_type": "markdown",
   "id": "993314b8",
   "metadata": {},
   "source": [
    "# 13. Compare Kmeans and Agglomerative clusterings\n",
    "\n",
    "with 8 clusters using Adjusted Rand Score, what is the value of ARI?\n"
   ]
  },
  {
   "cell_type": "code",
   "execution_count": null,
   "id": "88f5bf5c",
   "metadata": {},
   "outputs": [],
   "source": []
  },
  {
   "cell_type": "markdown",
   "id": "0f508d45",
   "metadata": {},
   "source": [
    "Visually KMeans and Agglomerative (with Ward distance) result in drastically different results, we will try to remove data outliers and see if it will affect the results"
   ]
  },
  {
   "cell_type": "markdown",
   "id": "390ca3e6",
   "metadata": {
    "id": "390ca3e6"
   },
   "source": [
    "# Remove outliers"
   ]
  },
  {
   "cell_type": "code",
   "execution_count": null,
   "id": "83362f1b",
   "metadata": {
    "id": "83362f1b"
   },
   "outputs": [],
   "source": [
    "def detect_outliers_very_simple(x, col):\n",
    "    \"\"\"A naive outliers detector, based on left most (5 percentile) or right most (95 percentile) threshold\"\"\"\n",
    "    if col in ['BALANCE_FREQUENCY', 'TENURE']:\n",
    "        return x < x.quantile(0.05)\n",
    "    else:\n",
    "        return x > x.quantile(0.95)"
   ]
  },
  {
   "cell_type": "code",
   "execution_count": null,
   "id": "3f92349e",
   "metadata": {
    "colab": {
     "base_uri": "https://localhost:8080/"
    },
    "id": "3f92349e",
    "outputId": "9605e8d1-bc28-4336-9469-958093978e7b"
   },
   "outputs": [],
   "source": [
    "cols_outliers = dict()\n",
    "outliers = [False] * df.shape[0]\n",
    "\n",
    "for col in columns:\n",
    "    cols_outliers[col] = detect_outliers_very_simple(df[col], col)\n",
    "    outliers += cols_outliers[col]\n",
    "    print(col, np.round(cols_outliers[col].sum() / df.shape[0] * 100), '%')"
   ]
  },
  {
   "cell_type": "code",
   "execution_count": null,
   "id": "341f677c",
   "metadata": {},
   "outputs": [],
   "source": [
    "X_mean['is_outlier'] = outliers"
   ]
  },
  {
   "cell_type": "markdown",
   "id": "419e26e4",
   "metadata": {},
   "source": [
    "# 14. What is the percentage of detected outliers (to the whole data)?\n"
   ]
  },
  {
   "cell_type": "code",
   "execution_count": null,
   "id": "8cb655e7",
   "metadata": {},
   "outputs": [],
   "source": []
  },
  {
   "cell_type": "markdown",
   "id": "cde56afc",
   "metadata": {},
   "source": [
    "# 15. Repeat the analysis on filtered data\n",
    "\n",
    "Run:\n",
    "1. PCA with 10 components\n",
    "2. KMeans with **12 clusters** (using PCA representation), set `n_init='auto'`\n",
    "3. Hierarchical clustering with **12 clusters** (using PCA representation)\n",
    "4. Compare 2 and 3 using adjusted mutual information\n",
    "\n",
    "what is the value of AMI?\n"
   ]
  },
  {
   "cell_type": "code",
   "execution_count": null,
   "id": "a7ee4b55",
   "metadata": {},
   "outputs": [],
   "source": [
    "X_mean_filtered = X_mean.query('is_outlier==False')"
   ]
  },
  {
   "cell_type": "code",
   "execution_count": null,
   "id": "01d8adf6",
   "metadata": {},
   "outputs": [],
   "source": [
    "from sklearn.metrics import adjusted_mutual_info_score"
   ]
  },
  {
   "cell_type": "code",
   "execution_count": null,
   "id": "257b88c7",
   "metadata": {},
   "outputs": [],
   "source": []
  },
  {
   "cell_type": "code",
   "execution_count": null,
   "id": "ac2f185e",
   "metadata": {},
   "outputs": [],
   "source": []
  },
  {
   "cell_type": "markdown",
   "id": "9fac0bc3",
   "metadata": {},
   "source": [
    "# 16. Plot a subplot with points colored according to kmeans and agglomerative clustering\n",
    "\n",
    "Draw a 1 row 2 columns subplot using TSNE embeddings. Title each subplot according to the source of clusters' colors (kmeans or agglomerative). Save pdf and upload it to the submission form."
   ]
  },
  {
   "cell_type": "code",
   "execution_count": null,
   "id": "f04ad366",
   "metadata": {},
   "outputs": [],
   "source": [
    "embedding = TSNE().fit(X_pca10)"
   ]
  },
  {
   "cell_type": "code",
   "execution_count": null,
   "id": "48814745",
   "metadata": {},
   "outputs": [],
   "source": []
  },
  {
   "cell_type": "code",
   "execution_count": null,
   "id": "821d5178",
   "metadata": {},
   "outputs": [],
   "source": []
  },
  {
   "cell_type": "markdown",
   "id": "6pM-8NISi5lf",
   "metadata": {
    "id": "6pM-8NISi5lf"
   },
   "source": [
    "# Plotly visualization\n",
    "\n",
    "> ChatGPT: `How to plot an interactive scatter plot in python so I can mouse over a point to see some label, provide a code example.`\n",
    "\n",
    "> `What if my data source is stored in pandas DataFrame?`\n",
    "\n",
    "> `How to add a color to each point?`\n",
    "\n",
    "finalize with some manual edits (change title, add color alpha, etc.)\n",
    "\n",
    "## Try to mouse over the points on the graph"
   ]
  },
  {
   "cell_type": "code",
   "execution_count": null,
   "id": "80dffbfa",
   "metadata": {},
   "outputs": [],
   "source": [
    "x_plot = pd.DataFrame(index=X_mean_filtered.index)\n",
    "x_plot['tsne1'] = embedding[:, 0]\n",
    "x_plot['tsne2'] = embedding[:, 1]\n",
    "x_plot['customer_id'] = range(embedding.shape[0])\n",
    "x_plot['cluster_agg'] = prediction\n",
    "x_plot['cluster_kmeans'] = prediction_kmeans\n",
    "x_plot = x_plot.reset_index()"
   ]
  },
  {
   "cell_type": "code",
   "execution_count": null,
   "id": "MVGhHzAyq3N_",
   "metadata": {
    "id": "MVGhHzAyq3N_"
   },
   "outputs": [],
   "source": [
    "# !pip install plotly"
   ]
  },
  {
   "cell_type": "code",
   "execution_count": null,
   "id": "db3cccf8",
   "metadata": {},
   "outputs": [],
   "source": [
    "import plotly.express as px"
   ]
  },
  {
   "cell_type": "code",
   "execution_count": null,
   "id": "Hc6YUFPypywW",
   "metadata": {
    "colab": {
     "base_uri": "https://localhost:8080/",
     "height": 542
    },
    "id": "Hc6YUFPypywW",
    "outputId": "9e853883-605b-4cb0-87c5-83955b3ff413"
   },
   "outputs": [],
   "source": [
    "fig = px.scatter(x_plot, x='tsne1', y='tsne2', color='cluster_agg', hover_data=['CUST_ID'], )\n",
    "\n",
    "# Customize aspect\n",
    "fig.update_traces(marker=dict(size=5, line=dict(width=0.5)), selector=dict(mode='markers')) \n",
    "fig.update_layout(title='TSNE plot of customers clusters', xaxis_title='x', yaxis_title='y')\n",
    "fig.update_yaxes(scaleanchor = \"x\", scaleratio = 1)\n",
    "\n",
    "fig.show()\n"
   ]
  },
  {
   "cell_type": "markdown",
   "id": "ed817942",
   "metadata": {
    "id": "-Y4bzPzvq7XU"
   },
   "source": [
    "# 17. Interpret the resulting clusters\n",
    "\n",
    "Try to interpret the resulting clusters, you can use smaller number of clusters (e.g. 4-8) and any clustering algorithm you want. Provide a short but detailed report <300 words. Save it to pdf and upload to submission form."
   ]
  },
  {
   "cell_type": "code",
   "execution_count": null,
   "id": "rmyvIEzJodSn",
   "metadata": {
    "id": "rmyvIEzJodSn"
   },
   "outputs": [],
   "source": []
  }
 ],
 "metadata": {
  "colab": {
   "provenance": [],
   "toc_visible": true
  },
  "kernelspec": {
   "display_name": "Python 3 (ipykernel)",
   "language": "python",
   "name": "python3"
  },
  "language_info": {
   "codemirror_mode": {
    "name": "ipython",
    "version": 3
   },
   "file_extension": ".py",
   "mimetype": "text/x-python",
   "name": "python",
   "nbconvert_exporter": "python",
   "pygments_lexer": "ipython3",
   "version": "3.10.10"
  }
 },
 "nbformat": 4,
 "nbformat_minor": 5
}

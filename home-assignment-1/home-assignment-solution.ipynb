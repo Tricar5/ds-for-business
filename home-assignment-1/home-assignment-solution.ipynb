{
 "cells": [
  {
   "cell_type": "code",
   "execution_count": 1,
   "id": "39767dee",
   "metadata": {},
   "outputs": [],
   "source": [
    "# !kaggle datasets download -d gauravduttakiit/media-campaign-cost-prediction"
   ]
  },
  {
   "cell_type": "code",
   "execution_count": 2,
   "id": "bef86374",
   "metadata": {},
   "outputs": [],
   "source": [
    "# !unzip media-campaign-cost-prediction.zip"
   ]
  },
  {
   "cell_type": "code",
   "execution_count": 3,
   "id": "fed0fe80",
   "metadata": {},
   "outputs": [],
   "source": [
    "import pandas as pd"
   ]
  },
  {
   "cell_type": "code",
   "execution_count": 4,
   "id": "470d5790",
   "metadata": {},
   "outputs": [
    {
     "name": "stdout",
     "output_type": "stream",
     "text": [
      "\u001b[0m\u001b[01;35mconvinient_food_mart.jpg\u001b[0m  home-assignment-solution.ipynb\r\n",
      "home-assignment-1.ipynb   train_dataset.csv\r\n"
     ]
    }
   ],
   "source": [
    "ls"
   ]
  },
  {
   "cell_type": "code",
   "execution_count": 5,
   "id": "8ab2dbb6",
   "metadata": {},
   "outputs": [],
   "source": [
    "df = pd.read_csv('train_dataset.csv')"
   ]
  },
  {
   "cell_type": "markdown",
   "id": "3a34d7dd",
   "metadata": {},
   "source": [
    "You are asked to build a model to predict the cost of acquiring a customer, the table contains the following features:\n",
    "1. Store specific information:\n",
    "    - store_sales(in millions) - store_sales(in million dollars)\n",
    "    - unit_sales(in millions) - unit_sales(in millions) in stores Quantity\n",
    "    - Store_sqft - STORE AREA AVAILABLE IN SQFT\n",
    "    - Units_per_case - UNITS/CASE UNITS AVAILABLE IN EACH STORE SHELVES\n",
    "    - Coffee_bar - COFFEE BAR available in store\n",
    "    - Video_store - VIDEO STORE/gaming store available\n",
    "    - Salad_bar - SALAD BAR available in store\n",
    "    - Prepared_food - food prepared available in store\n",
    "    - Florist - flower shelves available in store\n",
    "2. Customer related information:\n",
    "    - Total_children - TOTAL CHILDREN IN HOME\n",
    "    - avg_cars_at home(approx) - avg_cars_at home(approx)\n",
    "    - Num_children_at_home - num_children_at_home AS PER CUSTOMERS FILLED DETAILS\n",
    "    - Cost - COST ON ACQUIRING A CUSTOMERS in dollars\n",
    "3. Information about specific product (which was bought by a customer in the store):\n",
    "    - Gross_weight - gross_weight OF ITEM\n",
    "    - Recyclable_package - FOOD ITEM IS recyclable_package\n",
    "    - Low_fat - LOW_FAT FOOD ITEM IS LOW FAT\n",
    "    \n",
    "    \n",
    "![cfm](convinient_food_mart.jpg)\n",
    "    \n",
    "Recall, that this table contains already aggregated, anonymized, obfuscated and partially synthetic data. The dataset contains multiple rows per store, per customer, per item, but we do not have `customer_id`, `purchase_id`, `item_id`, `store_id` fields, thus making the analysis somehow limited. Though, it is ideal for our first home assignment.\n",
    "\n",
    "---\n",
    "\n",
    "Your goal for this home assignment is two-fold:\n",
    "1. Make you comfortable with data wrangling:\n",
    "    - Extract rows/columns statistics\n",
    "    - Visualize the dependencies\n",
    "    - Gain some insights\n",
    "2. Build a simple, but correct and full machine learning pipeline\n",
    "    - Select proper performance metrics\n",
    "    - Split the data into train and test subsets\n",
    "    - Run a k-fold cross-validation on a training part to select optimal hyperparameters of the model\n",
    "    - Train a model with optimal hyperparameters on the whole train set\n",
    "    - Make a predictions on test set\n",
    "    - Analyse the generalizability of the model by comparing its performance on train and test sets\n",
    "    - Comment on whether the resulting model is \"good\" or \"bad\" from business point of view"
   ]
  },
  {
   "cell_type": "markdown",
   "id": "35ad87ab",
   "metadata": {},
   "source": [
    "# Analyze general data information"
   ]
  },
  {
   "cell_type": "markdown",
   "id": "064f8374",
   "metadata": {},
   "source": [
    "## Question 0. What is the goal of this dataset?\n",
    "\n",
    "\n",
    "- To predict the number of customers visiting the Food Mart stores based on various store features.\n",
    "- To predict the most popular store features for customers visiting Food Mart stores.\n",
    "- **To predict the cost of media campaigns for Food Mart stores based on the given features.**\n",
    "- To analyze the relationship between store features and the profitability of Food Mart stores."
   ]
  },
  {
   "cell_type": "code",
   "execution_count": 6,
   "id": "7153deb3",
   "metadata": {},
   "outputs": [
    {
     "data": {
      "text/html": [
       "<div>\n",
       "<style scoped>\n",
       "    .dataframe tbody tr th:only-of-type {\n",
       "        vertical-align: middle;\n",
       "    }\n",
       "\n",
       "    .dataframe tbody tr th {\n",
       "        vertical-align: top;\n",
       "    }\n",
       "\n",
       "    .dataframe thead th {\n",
       "        text-align: right;\n",
       "    }\n",
       "</style>\n",
       "<table border=\"1\" class=\"dataframe\">\n",
       "  <thead>\n",
       "    <tr style=\"text-align: right;\">\n",
       "      <th></th>\n",
       "      <th>store_sales(in millions)</th>\n",
       "      <th>unit_sales(in millions)</th>\n",
       "      <th>total_children</th>\n",
       "      <th>num_children_at_home</th>\n",
       "      <th>avg_cars_at home(approx).1</th>\n",
       "      <th>gross_weight</th>\n",
       "      <th>recyclable_package</th>\n",
       "      <th>low_fat</th>\n",
       "      <th>units_per_case</th>\n",
       "      <th>store_sqft</th>\n",
       "      <th>coffee_bar</th>\n",
       "      <th>video_store</th>\n",
       "      <th>salad_bar</th>\n",
       "      <th>prepared_food</th>\n",
       "      <th>florist</th>\n",
       "      <th>cost</th>\n",
       "    </tr>\n",
       "  </thead>\n",
       "  <tbody>\n",
       "    <tr>\n",
       "      <th>0</th>\n",
       "      <td>2.68</td>\n",
       "      <td>2.0</td>\n",
       "      <td>1.0</td>\n",
       "      <td>0.0</td>\n",
       "      <td>2.0</td>\n",
       "      <td>6.30</td>\n",
       "      <td>1.0</td>\n",
       "      <td>0.0</td>\n",
       "      <td>22.0</td>\n",
       "      <td>30584.0</td>\n",
       "      <td>1.0</td>\n",
       "      <td>1.0</td>\n",
       "      <td>1.0</td>\n",
       "      <td>1.0</td>\n",
       "      <td>1.0</td>\n",
       "      <td>79.59</td>\n",
       "    </tr>\n",
       "    <tr>\n",
       "      <th>1</th>\n",
       "      <td>5.73</td>\n",
       "      <td>3.0</td>\n",
       "      <td>5.0</td>\n",
       "      <td>5.0</td>\n",
       "      <td>3.0</td>\n",
       "      <td>18.70</td>\n",
       "      <td>1.0</td>\n",
       "      <td>0.0</td>\n",
       "      <td>30.0</td>\n",
       "      <td>20319.0</td>\n",
       "      <td>0.0</td>\n",
       "      <td>0.0</td>\n",
       "      <td>0.0</td>\n",
       "      <td>0.0</td>\n",
       "      <td>0.0</td>\n",
       "      <td>118.36</td>\n",
       "    </tr>\n",
       "    <tr>\n",
       "      <th>2</th>\n",
       "      <td>2.62</td>\n",
       "      <td>2.0</td>\n",
       "      <td>1.0</td>\n",
       "      <td>1.0</td>\n",
       "      <td>1.0</td>\n",
       "      <td>9.21</td>\n",
       "      <td>0.0</td>\n",
       "      <td>0.0</td>\n",
       "      <td>9.0</td>\n",
       "      <td>20319.0</td>\n",
       "      <td>0.0</td>\n",
       "      <td>0.0</td>\n",
       "      <td>0.0</td>\n",
       "      <td>0.0</td>\n",
       "      <td>0.0</td>\n",
       "      <td>67.20</td>\n",
       "    </tr>\n",
       "  </tbody>\n",
       "</table>\n",
       "</div>"
      ],
      "text/plain": [
       "   store_sales(in millions)  unit_sales(in millions)  total_children  \\\n",
       "0                      2.68                      2.0             1.0   \n",
       "1                      5.73                      3.0             5.0   \n",
       "2                      2.62                      2.0             1.0   \n",
       "\n",
       "   num_children_at_home  avg_cars_at home(approx).1  gross_weight  \\\n",
       "0                   0.0                         2.0          6.30   \n",
       "1                   5.0                         3.0         18.70   \n",
       "2                   1.0                         1.0          9.21   \n",
       "\n",
       "   recyclable_package  low_fat  units_per_case  store_sqft  coffee_bar  \\\n",
       "0                 1.0      0.0            22.0     30584.0         1.0   \n",
       "1                 1.0      0.0            30.0     20319.0         0.0   \n",
       "2                 0.0      0.0             9.0     20319.0         0.0   \n",
       "\n",
       "   video_store  salad_bar  prepared_food  florist    cost  \n",
       "0          1.0        1.0            1.0      1.0   79.59  \n",
       "1          0.0        0.0            0.0      0.0  118.36  \n",
       "2          0.0        0.0            0.0      0.0   67.20  "
      ]
     },
     "execution_count": 6,
     "metadata": {},
     "output_type": "execute_result"
    }
   ],
   "source": [
    "df.head(3)"
   ]
  },
  {
   "cell_type": "markdown",
   "id": "125d8cb4",
   "metadata": {},
   "source": [
    "## Question 1. How many observations are in the dataset?"
   ]
  },
  {
   "cell_type": "code",
   "execution_count": 7,
   "id": "92288e43",
   "metadata": {},
   "outputs": [
    {
     "data": {
      "text/plain": [
       "(51363, 16)"
      ]
     },
     "execution_count": 7,
     "metadata": {},
     "output_type": "execute_result"
    }
   ],
   "source": [
    "df.shape\n",
    "# 51363"
   ]
  },
  {
   "cell_type": "markdown",
   "id": "ba7641fb",
   "metadata": {},
   "source": [
    "## Question 2. How many features are in the dataset? (excluding `target` column)"
   ]
  },
  {
   "cell_type": "code",
   "execution_count": 8,
   "id": "ac0b0269",
   "metadata": {},
   "outputs": [
    {
     "data": {
      "text/plain": [
       "(51363, 16)"
      ]
     },
     "execution_count": 8,
     "metadata": {},
     "output_type": "execute_result"
    }
   ],
   "source": [
    "df.shape\n",
    "# 16-1=15"
   ]
  },
  {
   "cell_type": "markdown",
   "id": "8c7c4a48",
   "metadata": {},
   "source": [
    "## Question 3. How many numerical and categorical features are in the dataset?  (excluding `target` column)"
   ]
  },
  {
   "cell_type": "code",
   "execution_count": 9,
   "id": "34dd2203",
   "metadata": {},
   "outputs": [
    {
     "data": {
      "text/plain": [
       "store_sales(in millions)      float64\n",
       "unit_sales(in millions)       float64\n",
       "total_children                float64\n",
       "num_children_at_home          float64\n",
       "avg_cars_at home(approx).1    float64\n",
       "gross_weight                  float64\n",
       "recyclable_package            float64\n",
       "low_fat                       float64\n",
       "units_per_case                float64\n",
       "store_sqft                    float64\n",
       "coffee_bar                    float64\n",
       "video_store                   float64\n",
       "salad_bar                     float64\n",
       "prepared_food                 float64\n",
       "florist                       float64\n",
       "cost                          float64\n",
       "dtype: object"
      ]
     },
     "execution_count": 9,
     "metadata": {},
     "output_type": "execute_result"
    }
   ],
   "source": [
    "df.dtypes\n",
    "\n",
    "# 8 numerical\n",
    "# 7 categorical "
   ]
  },
  {
   "cell_type": "markdown",
   "id": "7220f698",
   "metadata": {},
   "source": [
    "## Question 4. What is the difference between numerical and categorical features?"
   ]
  },
  {
   "cell_type": "markdown",
   "id": "629c78b6",
   "metadata": {},
   "source": [
    "Which of the following best describes the difference between categorical and numerical features in machine learning?\n",
    "\n",
    "- Categorical features represent measurable quantities with numerical values, while numerical features represent distinct categories or labels with no inherent numerical order.\n",
    "- **Categorical features represent distinct categories or labels with no inherent numerical order, while numerical features represent measurable quantities with numerical values.**\n",
    "- Both categorical and numerical features represent measurable quantities with numerical values, but categorical features require encoding while numerical features do not.\n",
    "- Both categorical and numerical features represent distinct categories or labels with no inherent numerical order, but categorical features require encoding while numerical features do not."
   ]
  },
  {
   "cell_type": "markdown",
   "id": "91b1c9d7",
   "metadata": {},
   "source": [
    "# Analyze store specific information"
   ]
  },
  {
   "cell_type": "markdown",
   "id": "d7e3a05c",
   "metadata": {},
   "source": [
    "# Categorical columns `coffee_bar`, `video_store`, `salad_bar`, `prepared_food` and `florist`"
   ]
  },
  {
   "cell_type": "markdown",
   "id": "abcb2c65",
   "metadata": {},
   "source": [
    "## In most cases stores which have a Coffee bar do prepare food"
   ]
  },
  {
   "cell_type": "code",
   "execution_count": 10,
   "id": "96309978",
   "metadata": {},
   "outputs": [],
   "source": [
    "from sklearn.metrics import confusion_matrix\n",
    "import seaborn as sns\n",
    "import matplotlib.pyplot as plt"
   ]
  },
  {
   "cell_type": "code",
   "execution_count": 11,
   "id": "95c1b717",
   "metadata": {},
   "outputs": [
    {
     "data": {
      "image/png": "[encoded data removed]",
      "text/plain": [
       "<Figure size 640x480 with 1 Axes>"
      ]
     },
     "metadata": {},
     "output_type": "display_data"
    }
   ],
   "source": [
    "# Compute a confusion matrix\n",
    "cm = confusion_matrix(df['coffee_bar'], df['prepared_food'])\n",
    "\n",
    "# Create a heatmap with seaborn\n",
    "sns.heatmap(cm, annot=True, cmap='Blues', fmt='g', cbar=False)\n",
    "\n",
    "# Add labels to the x-axis and y-axis\n",
    "plt.xlabel('coffee_bar')\n",
    "plt.ylabel('prepared_food')\n",
    "\n",
    "# Add a title\n",
    "plt.title('Confusion Matrix Heatmap');"
   ]
  },
  {
   "cell_type": "markdown",
   "id": "a755b22e",
   "metadata": {},
   "source": [
    "## Question 5. How many stores which have a Salad bar do prepare food?\n",
    "\n",
    "Based on your answer decide if you need to drop one of the (duplicated) columns."
   ]
  },
  {
   "cell_type": "code",
   "execution_count": 12,
   "id": "69e453dd",
   "metadata": {},
   "outputs": [
    {
     "data": {
      "image/png": "[encoded data removed]",
      "text/plain": [
       "<Figure size 640x480 with 1 Axes>"
      ]
     },
     "metadata": {},
     "output_type": "display_data"
    }
   ],
   "source": [
    "# Compute a confusion matrix\n",
    "cm = confusion_matrix(df['salad_bar'], df['prepared_food'])\n",
    "\n",
    "# Create a heatmap with seaborn\n",
    "sns.heatmap(cm, annot=True, cmap='Blues', fmt='g', cbar=False)\n",
    "\n",
    "# Add labels to the x-axis and y-axis\n",
    "plt.xlabel('salad_bar')\n",
    "plt.ylabel('prepared_food')\n",
    "\n",
    "# Add a title\n",
    "plt.title('Confusion Matrix Heatmap');"
   ]
  },
  {
   "cell_type": "code",
   "execution_count": 13,
   "id": "4277e2d7",
   "metadata": {},
   "outputs": [],
   "source": [
    "# 30202"
   ]
  },
  {
   "cell_type": "markdown",
   "id": "2345eedf",
   "metadata": {},
   "source": [
    "## Having a Coffee bar decreases the average media campaign cost"
   ]
  },
  {
   "cell_type": "code",
   "execution_count": 14,
   "id": "f41bd65e",
   "metadata": {},
   "outputs": [
    {
     "data": {
      "image/png": "[encoded data removed]",
      "text/plain": [
       "<Figure size 640x480 with 1 Axes>"
      ]
     },
     "metadata": {},
     "output_type": "display_data"
    }
   ],
   "source": [
    "sns.boxplot(data=df, x='coffee_bar', y='cost', width=.3)\n",
    "plt.xlabel('Coffee bar')\n",
    "plt.ylabel('Marketing cost');"
   ]
  },
  {
   "cell_type": "code",
   "execution_count": 15,
   "id": "b3dec8a0",
   "metadata": {},
   "outputs": [
    {
     "data": {
      "text/html": [
       "<div>\n",
       "<style scoped>\n",
       "    .dataframe tbody tr th:only-of-type {\n",
       "        vertical-align: middle;\n",
       "    }\n",
       "\n",
       "    .dataframe tbody tr th {\n",
       "        vertical-align: top;\n",
       "    }\n",
       "\n",
       "    .dataframe thead th {\n",
       "        text-align: right;\n",
       "    }\n",
       "</style>\n",
       "<table border=\"1\" class=\"dataframe\">\n",
       "  <thead>\n",
       "    <tr style=\"text-align: right;\">\n",
       "      <th></th>\n",
       "      <th>mean</th>\n",
       "      <th>median</th>\n",
       "      <th>std</th>\n",
       "    </tr>\n",
       "    <tr>\n",
       "      <th>coffee_bar</th>\n",
       "      <th></th>\n",
       "      <th></th>\n",
       "      <th></th>\n",
       "    </tr>\n",
       "  </thead>\n",
       "  <tbody>\n",
       "    <tr>\n",
       "      <th>0.0</th>\n",
       "      <td>101.659804</td>\n",
       "      <td>105.74</td>\n",
       "      <td>30.162547</td>\n",
       "    </tr>\n",
       "    <tr>\n",
       "      <th>1.0</th>\n",
       "      <td>97.850422</td>\n",
       "      <td>94.79</td>\n",
       "      <td>29.841456</td>\n",
       "    </tr>\n",
       "  </tbody>\n",
       "</table>\n",
       "</div>"
      ],
      "text/plain": [
       "                  mean  median        std\n",
       "coffee_bar                               \n",
       "0.0         101.659804  105.74  30.162547\n",
       "1.0          97.850422   94.79  29.841456"
      ]
     },
     "execution_count": 15,
     "metadata": {},
     "output_type": "execute_result"
    }
   ],
   "source": [
    "df.groupby('coffee_bar')['cost'].agg(['mean', 'median', 'std'])"
   ]
  },
  {
   "cell_type": "markdown",
   "id": "8a41b144",
   "metadata": {},
   "source": [
    "## Question 6. Does having a video store, a salad bar, an option to buy prepared food or a\tflorist decreases the average cost of media campaign?\n",
    "\n",
    "- Having a video store or a salad bar decrease the cost of media campaign\n",
    "- Having a florist or a prepared food decrease the cost of media campaign\n",
    "- No additional services decrease the cost of media campaign\n",
    "- **Every additinal service decreases the cost of media campaign**"
   ]
  },
  {
   "cell_type": "code",
   "execution_count": 16,
   "id": "7a7e0091",
   "metadata": {},
   "outputs": [
    {
     "data": {
      "text/html": [
       "<div>\n",
       "<style scoped>\n",
       "    .dataframe tbody tr th:only-of-type {\n",
       "        vertical-align: middle;\n",
       "    }\n",
       "\n",
       "    .dataframe tbody tr th {\n",
       "        vertical-align: top;\n",
       "    }\n",
       "\n",
       "    .dataframe thead th {\n",
       "        text-align: right;\n",
       "    }\n",
       "</style>\n",
       "<table border=\"1\" class=\"dataframe\">\n",
       "  <thead>\n",
       "    <tr style=\"text-align: right;\">\n",
       "      <th></th>\n",
       "      <th>mean</th>\n",
       "      <th>median</th>\n",
       "      <th>std</th>\n",
       "    </tr>\n",
       "    <tr>\n",
       "      <th>video_store</th>\n",
       "      <th></th>\n",
       "      <th></th>\n",
       "      <th></th>\n",
       "    </tr>\n",
       "  </thead>\n",
       "  <tbody>\n",
       "    <tr>\n",
       "      <th>0.0</th>\n",
       "      <td>101.781734</td>\n",
       "      <td>101.84</td>\n",
       "      <td>30.035569</td>\n",
       "    </tr>\n",
       "    <tr>\n",
       "      <th>1.0</th>\n",
       "      <td>94.843250</td>\n",
       "      <td>92.57</td>\n",
       "      <td>29.479086</td>\n",
       "    </tr>\n",
       "  </tbody>\n",
       "</table>\n",
       "</div>"
      ],
      "text/plain": [
       "                   mean  median        std\n",
       "video_store                               \n",
       "0.0          101.781734  101.84  30.035569\n",
       "1.0           94.843250   92.57  29.479086"
      ]
     },
     "execution_count": 16,
     "metadata": {},
     "output_type": "execute_result"
    }
   ],
   "source": [
    "df.groupby('video_store')['cost'].agg(['mean', 'median', 'std'])"
   ]
  },
  {
   "cell_type": "code",
   "execution_count": 17,
   "id": "2a3dee02",
   "metadata": {},
   "outputs": [
    {
     "data": {
      "text/html": [
       "<div>\n",
       "<style scoped>\n",
       "    .dataframe tbody tr th:only-of-type {\n",
       "        vertical-align: middle;\n",
       "    }\n",
       "\n",
       "    .dataframe tbody tr th {\n",
       "        vertical-align: top;\n",
       "    }\n",
       "\n",
       "    .dataframe thead th {\n",
       "        text-align: right;\n",
       "    }\n",
       "</style>\n",
       "<table border=\"1\" class=\"dataframe\">\n",
       "  <thead>\n",
       "    <tr style=\"text-align: right;\">\n",
       "      <th></th>\n",
       "      <th>mean</th>\n",
       "      <th>median</th>\n",
       "      <th>std</th>\n",
       "    </tr>\n",
       "    <tr>\n",
       "      <th>salad_bar</th>\n",
       "      <th></th>\n",
       "      <th></th>\n",
       "      <th></th>\n",
       "    </tr>\n",
       "  </thead>\n",
       "  <tbody>\n",
       "    <tr>\n",
       "      <th>0.0</th>\n",
       "      <td>102.750251</td>\n",
       "      <td>103.90</td>\n",
       "      <td>29.947633</td>\n",
       "    </tr>\n",
       "    <tr>\n",
       "      <th>1.0</th>\n",
       "      <td>96.928612</td>\n",
       "      <td>95.45</td>\n",
       "      <td>29.843937</td>\n",
       "    </tr>\n",
       "  </tbody>\n",
       "</table>\n",
       "</div>"
      ],
      "text/plain": [
       "                 mean  median        std\n",
       "salad_bar                               \n",
       "0.0        102.750251  103.90  29.947633\n",
       "1.0         96.928612   95.45  29.843937"
      ]
     },
     "execution_count": 17,
     "metadata": {},
     "output_type": "execute_result"
    }
   ],
   "source": [
    "df.groupby('salad_bar')['cost'].agg(['mean', 'median', 'std'])"
   ]
  },
  {
   "cell_type": "code",
   "execution_count": 18,
   "id": "915148c2",
   "metadata": {},
   "outputs": [
    {
     "data": {
      "text/html": [
       "<div>\n",
       "<style scoped>\n",
       "    .dataframe tbody tr th:only-of-type {\n",
       "        vertical-align: middle;\n",
       "    }\n",
       "\n",
       "    .dataframe tbody tr th {\n",
       "        vertical-align: top;\n",
       "    }\n",
       "\n",
       "    .dataframe thead th {\n",
       "        text-align: right;\n",
       "    }\n",
       "</style>\n",
       "<table border=\"1\" class=\"dataframe\">\n",
       "  <thead>\n",
       "    <tr style=\"text-align: right;\">\n",
       "      <th></th>\n",
       "      <th>mean</th>\n",
       "      <th>median</th>\n",
       "      <th>std</th>\n",
       "    </tr>\n",
       "    <tr>\n",
       "      <th>prepared_food</th>\n",
       "      <th></th>\n",
       "      <th></th>\n",
       "      <th></th>\n",
       "    </tr>\n",
       "  </thead>\n",
       "  <tbody>\n",
       "    <tr>\n",
       "      <th>0.0</th>\n",
       "      <td>102.750251</td>\n",
       "      <td>103.90</td>\n",
       "      <td>29.947633</td>\n",
       "    </tr>\n",
       "    <tr>\n",
       "      <th>1.0</th>\n",
       "      <td>96.928612</td>\n",
       "      <td>95.45</td>\n",
       "      <td>29.843937</td>\n",
       "    </tr>\n",
       "  </tbody>\n",
       "</table>\n",
       "</div>"
      ],
      "text/plain": [
       "                     mean  median        std\n",
       "prepared_food                               \n",
       "0.0            102.750251  103.90  29.947633\n",
       "1.0             96.928612   95.45  29.843937"
      ]
     },
     "execution_count": 18,
     "metadata": {},
     "output_type": "execute_result"
    }
   ],
   "source": [
    "df.groupby('prepared_food')['cost'].agg(['mean', 'median', 'std'])"
   ]
  },
  {
   "cell_type": "code",
   "execution_count": 19,
   "id": "bb2be5f7",
   "metadata": {},
   "outputs": [
    {
     "data": {
      "text/html": [
       "<div>\n",
       "<style scoped>\n",
       "    .dataframe tbody tr th:only-of-type {\n",
       "        vertical-align: middle;\n",
       "    }\n",
       "\n",
       "    .dataframe tbody tr th {\n",
       "        vertical-align: top;\n",
       "    }\n",
       "\n",
       "    .dataframe thead th {\n",
       "        text-align: right;\n",
       "    }\n",
       "</style>\n",
       "<table border=\"1\" class=\"dataframe\">\n",
       "  <thead>\n",
       "    <tr style=\"text-align: right;\">\n",
       "      <th></th>\n",
       "      <th>mean</th>\n",
       "      <th>median</th>\n",
       "      <th>std</th>\n",
       "    </tr>\n",
       "    <tr>\n",
       "      <th>florist</th>\n",
       "      <th></th>\n",
       "      <th></th>\n",
       "      <th></th>\n",
       "    </tr>\n",
       "  </thead>\n",
       "  <tbody>\n",
       "    <tr>\n",
       "      <th>0.0</th>\n",
       "      <td>102.373140</td>\n",
       "      <td>105.74</td>\n",
       "      <td>29.258121</td>\n",
       "    </tr>\n",
       "    <tr>\n",
       "      <th>1.0</th>\n",
       "      <td>96.951385</td>\n",
       "      <td>94.79</td>\n",
       "      <td>30.396434</td>\n",
       "    </tr>\n",
       "  </tbody>\n",
       "</table>\n",
       "</div>"
      ],
      "text/plain": [
       "               mean  median        std\n",
       "florist                               \n",
       "0.0      102.373140  105.74  29.258121\n",
       "1.0       96.951385   94.79  30.396434"
      ]
     },
     "execution_count": 19,
     "metadata": {},
     "output_type": "execute_result"
    }
   ],
   "source": [
    "df.groupby('florist')['cost'].agg(['mean', 'median', 'std'])"
   ]
  },
  {
   "cell_type": "markdown",
   "id": "5ae849f2",
   "metadata": {},
   "source": [
    "## Most of the stores have under 15 mln sales, with 90% of sales being under 12 mln.\n",
    "\n",
    "The distribution is right-skewed (positive skew), with mean around 6.5mln."
   ]
  },
  {
   "cell_type": "code",
   "execution_count": 20,
   "id": "3712c5e2",
   "metadata": {},
   "outputs": [
    {
     "data": {
      "image/png": "[encoded data removed]",
      "text/plain": [
       "<Figure size 640x480 with 1 Axes>"
      ]
     },
     "metadata": {},
     "output_type": "display_data"
    }
   ],
   "source": [
    "sns.histplot(df['store_sales(in millions)'], kde=True, bins=20)\n",
    "plt.title(f'Distribution of store sales, in millions $');"
   ]
  },
  {
   "cell_type": "code",
   "execution_count": 21,
   "id": "4a54d133",
   "metadata": {},
   "outputs": [
    {
     "data": {
      "text/plain": [
       "11.85"
      ]
     },
     "execution_count": 21,
     "metadata": {},
     "output_type": "execute_result"
    }
   ],
   "source": [
    "df['store_sales(in millions)'].quantile(0.93)"
   ]
  },
  {
   "cell_type": "code",
   "execution_count": 22,
   "id": "b7e1c38f",
   "metadata": {},
   "outputs": [
    {
     "data": {
      "text/plain": [
       "6.531791562019294"
      ]
     },
     "execution_count": 22,
     "metadata": {},
     "output_type": "execute_result"
    }
   ],
   "source": [
    "df['store_sales(in millions)'].mean()"
   ]
  },
  {
   "cell_type": "markdown",
   "id": "dc693c3a",
   "metadata": {},
   "source": [
    "## Question 7. What could you say about distribution of marketing costs?\n",
    "\n",
    "- Left-skewed\n",
    "- Right-skewed\n",
    "- **Uniform**\n",
    "- Normally distributed"
   ]
  },
  {
   "cell_type": "code",
   "execution_count": 23,
   "id": "ad0502d8",
   "metadata": {},
   "outputs": [
    {
     "data": {
      "image/png": "[encoded data removed]",
      "text/plain": [
       "<Figure size 640x480 with 1 Axes>"
      ]
     },
     "metadata": {},
     "output_type": "display_data"
    }
   ],
   "source": [
    "sns.histplot(df['cost'], kde=True, bins=20)\n",
    "plt.title(f'Distribution marketing costs, $');"
   ]
  },
  {
   "cell_type": "code",
   "execution_count": null,
   "id": "6398664d",
   "metadata": {},
   "outputs": [],
   "source": []
  },
  {
   "cell_type": "markdown",
   "id": "71605abb",
   "metadata": {},
   "source": [
    "## Question 8. What percentage of sales go into marketing cost?\n",
    "\n",
    "Assuming that all rows with the same `store_sales(in millions)` come from the same store, and that all rows are from unique customers, the total sales are $7979 \\text{mln}, \\$ $, and the total costs are $5101736\\$$.\n",
    "\n",
    "- 0.06%\n",
    "- 6%\n",
    "- 0.15%\n",
    "- 15%"
   ]
  },
  {
   "cell_type": "code",
   "execution_count": 24,
   "id": "428d7352",
   "metadata": {},
   "outputs": [
    {
     "data": {
      "text/plain": [
       "7979.009999999999"
      ]
     },
     "execution_count": 24,
     "metadata": {},
     "output_type": "execute_result"
    }
   ],
   "source": [
    "df['store_sales(in millions)'].unique().sum()"
   ]
  },
  {
   "cell_type": "code",
   "execution_count": 25,
   "id": "41249f78",
   "metadata": {},
   "outputs": [
    {
     "data": {
      "text/plain": [
       "5101736.01"
      ]
     },
     "execution_count": 25,
     "metadata": {},
     "output_type": "execute_result"
    }
   ],
   "source": [
    "df['cost'].sum()"
   ]
  },
  {
   "cell_type": "code",
   "execution_count": 26,
   "id": "34a7080a",
   "metadata": {},
   "outputs": [
    {
     "data": {
      "text/plain": [
       "0.06393954129590174"
      ]
     },
     "execution_count": 26,
     "metadata": {},
     "output_type": "execute_result"
    }
   ],
   "source": [
    "5101736 / 7_979_000_000 * 100\n",
    "# 0.06%"
   ]
  },
  {
   "cell_type": "markdown",
   "id": "cdbed01d",
   "metadata": {},
   "source": [
    "## Here is a plot of sales vs store area\n",
    "\n",
    "It seems that while there is no clear dependence (stores with the largest sales vary in the square foot area a lot), \n",
    "there are some obvious clusters, e.g. stores with about 25000 square feet area and sales between 3 and 7 mln."
   ]
  },
  {
   "cell_type": "code",
   "execution_count": 27,
   "id": "3abe0bbd",
   "metadata": {},
   "outputs": [
    {
     "data": {
      "text/plain": [
       "<AxesSubplot:xlabel='store_sales(in millions)', ylabel='store_sqft'>"
      ]
     },
     "execution_count": 27,
     "metadata": {},
     "output_type": "execute_result"
    },
    {
     "data": {
      "image/png": "[encoded data removed]",
      "text/plain": [
       "<Figure size 640x480 with 1 Axes>"
      ]
     },
     "metadata": {},
     "output_type": "display_data"
    }
   ],
   "source": [
    "sub = df[['store_sales(in millions)','store_sqft']].drop_duplicates()\n",
    "sub = sub[::20]\n",
    "\n",
    "plt.scatter(sub['store_sales(in millions)'], sub['store_sqft'], s=3, alpha=0.6)\n",
    "\n",
    "sns.kdeplot(data=sub, x='store_sales(in millions)', y='store_sqft',\n",
    "            palette=\"deep\", alpha=0.5, levels=10, fill=True)"
   ]
  },
  {
   "cell_type": "code",
   "execution_count": null,
   "id": "4ba72040",
   "metadata": {},
   "outputs": [],
   "source": []
  },
  {
   "cell_type": "markdown",
   "id": "d2fa52c7",
   "metadata": {},
   "source": [
    "## Question 9. What is the average sales per squre foot area?"
   ]
  },
  {
   "cell_type": "code",
   "execution_count": 28,
   "id": "4968c2e7",
   "metadata": {},
   "outputs": [
    {
     "data": {
      "text/plain": [
       "242.84208032679783"
      ]
     },
     "execution_count": 28,
     "metadata": {},
     "output_type": "execute_result"
    }
   ],
   "source": [
    "((df['store_sales(in millions)'] / df['store_sqft']) * 1000000).mean()"
   ]
  },
  {
   "cell_type": "markdown",
   "id": "30b8ed4d",
   "metadata": {},
   "source": [
    "## Interestingly, the marketing costs in  stores with >=10 mln sales is not much different from the costs in stores with lower <10mln sales"
   ]
  },
  {
   "cell_type": "code",
   "execution_count": 29,
   "id": "fba710fc",
   "metadata": {},
   "outputs": [
    {
     "data": {
      "text/plain": [
       "99.60226463673969"
      ]
     },
     "execution_count": 29,
     "metadata": {},
     "output_type": "execute_result"
    }
   ],
   "source": [
    "df[df['store_sales(in millions)'] >= 10]['cost'].mean()"
   ]
  },
  {
   "cell_type": "code",
   "execution_count": 30,
   "id": "b5480421",
   "metadata": {},
   "outputs": [
    {
     "data": {
      "text/plain": [
       "99.26912514730299"
      ]
     },
     "execution_count": 30,
     "metadata": {},
     "output_type": "execute_result"
    }
   ],
   "source": [
    "df[df['store_sales(in millions)'] < 10]['cost'].mean()"
   ]
  },
  {
   "cell_type": "code",
   "execution_count": null,
   "id": "b57d0087",
   "metadata": {},
   "outputs": [],
   "source": []
  },
  {
   "cell_type": "markdown",
   "id": "0e2dcd7c",
   "metadata": {},
   "source": [
    "## Question 10. Is there any dependence between size of the store in square feet and the cost of marketing?"
   ]
  },
  {
   "cell_type": "code",
   "execution_count": 31,
   "id": "3ca7fdd2",
   "metadata": {},
   "outputs": [
    {
     "data": {
      "text/plain": [
       "<AxesSubplot:xlabel='store_sqft', ylabel='cost'>"
      ]
     },
     "execution_count": 31,
     "metadata": {},
     "output_type": "execute_result"
    },
    {
     "data": {
      "image/png": "[encoded data removed]",
      "text/plain": [
       "<Figure size 640x480 with 1 Axes>"
      ]
     },
     "metadata": {},
     "output_type": "display_data"
    }
   ],
   "source": [
    "sub = df[['store_sqft','cost']].drop_duplicates()\n",
    "sub = sub\n",
    "\n",
    "plt.scatter(sub['store_sqft'], sub['cost'], s=3, alpha=0.6)\n",
    "\n",
    "\n",
    "sns.kdeplot(data=sub, x='store_sqft', y='cost',\n",
    "            palette=\"deep\", alpha=0.5, levels=10, fill=True)"
   ]
  },
  {
   "cell_type": "code",
   "execution_count": 32,
   "id": "d532a5b5",
   "metadata": {},
   "outputs": [
    {
     "data": {
      "text/plain": [
       "99.93665431878709"
      ]
     },
     "execution_count": 32,
     "metadata": {},
     "output_type": "execute_result"
    }
   ],
   "source": [
    "df[df['store_sqft'] < 30000]['cost'].mean()"
   ]
  },
  {
   "cell_type": "code",
   "execution_count": 33,
   "id": "e4f4a633",
   "metadata": {},
   "outputs": [
    {
     "data": {
      "text/plain": [
       "98.59216935761245"
      ]
     },
     "execution_count": 33,
     "metadata": {},
     "output_type": "execute_result"
    }
   ],
   "source": [
    "df[df['store_sqft'] >= 30000]['cost'].mean()"
   ]
  },
  {
   "cell_type": "code",
   "execution_count": 34,
   "id": "c41fd978",
   "metadata": {},
   "outputs": [
    {
     "data": {
      "text/plain": [
       "1.3013013013013126"
      ]
     },
     "execution_count": 34,
     "metadata": {},
     "output_type": "execute_result"
    }
   ],
   "source": [
    "# Difference in costs\n",
    "(99.9 - 98.6) / 99.9 * 100\n",
    "# 1.3%"
   ]
  },
  {
   "cell_type": "code",
   "execution_count": 35,
   "id": "7fa9401c",
   "metadata": {},
   "outputs": [],
   "source": [
    "sub_small = df[df['store_sqft'] < 30000][['store_sqft','cost']]\n",
    "sub_large = df[df['store_sqft'] >= 30000][['store_sqft','cost']]"
   ]
  },
  {
   "cell_type": "code",
   "execution_count": 36,
   "id": "bccbfb61",
   "metadata": {},
   "outputs": [
    {
     "data": {
      "text/plain": [
       "0.004327231991412046"
      ]
     },
     "execution_count": 36,
     "metadata": {},
     "output_type": "execute_result"
    }
   ],
   "source": [
    "# Mean cost per square foot\n",
    "(sub_small['cost'] / sub_small['store_sqft']).mean() "
   ]
  },
  {
   "cell_type": "code",
   "execution_count": 37,
   "id": "c3771a51",
   "metadata": {},
   "outputs": [
    {
     "data": {
      "text/plain": [
       "0.002966410373612881"
      ]
     },
     "execution_count": 37,
     "metadata": {},
     "output_type": "execute_result"
    }
   ],
   "source": [
    "# Mean cost per square foot\n",
    "(sub_large['cost'] / sub_large['store_sqft']).mean() "
   ]
  },
  {
   "cell_type": "code",
   "execution_count": 38,
   "id": "bf57bfc6",
   "metadata": {},
   "outputs": [
    {
     "data": {
      "text/plain": [
       "31.48148148148148"
      ]
     },
     "execution_count": 38,
     "metadata": {},
     "output_type": "execute_result"
    }
   ],
   "source": [
    "# Marketing campaigns are 31.5% less cost effective per square foot in small stores\n",
    "(0.00432 - 0.00296) / 0.00432 * 100"
   ]
  },
  {
   "cell_type": "markdown",
   "id": "72adfffd",
   "metadata": {},
   "source": [
    "Select all that apply\n",
    "\n",
    "- **The difference in marketing costs between small and large stores is negligble (<2%)**\n",
    "- The difference in marketing costs between small and large stores is significant (>5%)\n",
    "- **Marketing campaigns in large stores are more cost effective (per square feet)**\n",
    "- Marketing campaigns in small stores are more cost effective (per square feet)"
   ]
  },
  {
   "cell_type": "markdown",
   "id": "8f8a5844",
   "metadata": {},
   "source": [
    "## Let's investigate the stores with the smallest cost to aqcuire a customers"
   ]
  },
  {
   "cell_type": "code",
   "execution_count": 39,
   "id": "28e5947b",
   "metadata": {},
   "outputs": [
    {
     "data": {
      "text/plain": [
       "50.79"
      ]
     },
     "execution_count": 39,
     "metadata": {},
     "output_type": "execute_result"
    }
   ],
   "source": [
    "df.cost.min()"
   ]
  },
  {
   "cell_type": "code",
   "execution_count": 40,
   "id": "346a09fa",
   "metadata": {},
   "outputs": [],
   "source": [
    "sub = df.query('cost==50.79')"
   ]
  },
  {
   "cell_type": "code",
   "execution_count": 41,
   "id": "1e98cb18",
   "metadata": {},
   "outputs": [],
   "source": [
    "store_columns = [\n",
    "    'store_sales(in millions)','unit_sales(in millions)',\n",
    "    'store_sqft','coffee_bar','video_store',\n",
    "    'salad_bar','prepared_food','florist'\n",
    "]"
   ]
  },
  {
   "cell_type": "markdown",
   "id": "1422c6c7",
   "metadata": {},
   "source": [
    "First, these are mostly small stores with sales under 10mln"
   ]
  },
  {
   "cell_type": "code",
   "execution_count": 42,
   "id": "2a7d01bf",
   "metadata": {},
   "outputs": [
    {
     "data": {
      "image/png": "[encoded data removed]",
      "text/plain": [
       "<Figure size 640x480 with 1 Axes>"
      ]
     },
     "metadata": {},
     "output_type": "display_data"
    }
   ],
   "source": [
    "sns.histplot(sub['store_sales(in millions)'], kde=True, bins=20)\n",
    "plt.title(f'Distribution of store sales, in millions $');"
   ]
  },
  {
   "cell_type": "code",
   "execution_count": 43,
   "id": "a2f63d9c",
   "metadata": {},
   "outputs": [
    {
     "data": {
      "text/plain": [
       "(27694.0, 0.0)"
      ]
     },
     "execution_count": 43,
     "metadata": {},
     "output_type": "execute_result"
    }
   ],
   "source": [
    "sub['store_sqft'].mean(), sub['store_sqft'].std() "
   ]
  },
  {
   "cell_type": "code",
   "execution_count": 44,
   "id": "f7c893cb",
   "metadata": {},
   "outputs": [
    {
     "data": {
      "text/plain": [
       "array([27694.])"
      ]
     },
     "execution_count": 44,
     "metadata": {},
     "output_type": "execute_result"
    }
   ],
   "source": [
    "sub['store_sqft'].unique()"
   ]
  },
  {
   "cell_type": "markdown",
   "id": "e01e1cce",
   "metadata": {},
   "source": [
    "Second, it seems they all have **all** additional services"
   ]
  },
  {
   "cell_type": "code",
   "execution_count": 45,
   "id": "48c5f56e",
   "metadata": {},
   "outputs": [
    {
     "name": "stdout",
     "output_type": "stream",
     "text": [
      "coffee_bar [1.]\n",
      "video_store [1.]\n",
      "salad_bar [1.]\n",
      "prepared_food [1.]\n",
      "florist [1.]\n"
     ]
    }
   ],
   "source": [
    "for col in ['coffee_bar','video_store',\n",
    "    'salad_bar','prepared_food','florist']:\n",
    "    print(col, sub[col].unique())"
   ]
  },
  {
   "cell_type": "markdown",
   "id": "8f9d0fa4",
   "metadata": {},
   "source": [
    "## What about stores with the largest cost to aqcuire a customers?"
   ]
  },
  {
   "cell_type": "code",
   "execution_count": 46,
   "id": "827d23df",
   "metadata": {},
   "outputs": [
    {
     "data": {
      "text/plain": [
       "149.75"
      ]
     },
     "execution_count": 46,
     "metadata": {},
     "output_type": "execute_result"
    }
   ],
   "source": [
    "df.cost.max()"
   ]
  },
  {
   "cell_type": "code",
   "execution_count": 47,
   "id": "c92020d9",
   "metadata": {},
   "outputs": [],
   "source": [
    "sub = df.query('cost==149.75')"
   ]
  },
  {
   "cell_type": "code",
   "execution_count": 48,
   "id": "724761af",
   "metadata": {},
   "outputs": [
    {
     "data": {
      "image/png": "[encoded data removed]",
      "text/plain": [
       "<Figure size 640x480 with 1 Axes>"
      ]
     },
     "metadata": {},
     "output_type": "display_data"
    }
   ],
   "source": [
    "sns.histplot(sub['store_sales(in millions)'], kde=True, bins=20)\n",
    "plt.title(f'Distribution of store sales, in millions $');"
   ]
  },
  {
   "cell_type": "code",
   "execution_count": 49,
   "id": "74c60825",
   "metadata": {},
   "outputs": [
    {
     "data": {
      "text/plain": [
       "(23688.0, 0.0)"
      ]
     },
     "execution_count": 49,
     "metadata": {},
     "output_type": "execute_result"
    }
   ],
   "source": [
    "sub['store_sqft'].mean(), sub['store_sqft'].std() "
   ]
  },
  {
   "cell_type": "code",
   "execution_count": 50,
   "id": "7fb1fe96",
   "metadata": {},
   "outputs": [
    {
     "name": "stdout",
     "output_type": "stream",
     "text": [
      "coffee_bar [1.]\n",
      "video_store [1.]\n",
      "salad_bar [1.]\n",
      "prepared_food [1.]\n",
      "florist [1.]\n"
     ]
    }
   ],
   "source": [
    "for col in ['coffee_bar','video_store',\n",
    "    'salad_bar','prepared_food','florist']:\n",
    "    print(col, sub[col].unique())"
   ]
  },
  {
   "cell_type": "markdown",
   "id": "933d2ded",
   "metadata": {},
   "source": [
    "They are also mostly small stores with under 10mln sales and all services included. It seems that the difference is not explained by the stores. Could it be explained by customers?"
   ]
  },
  {
   "cell_type": "markdown",
   "id": "ff8ff19f",
   "metadata": {},
   "source": [
    "## Question 10. Do distribution of number of kids vary for the lowest cost and largest cost rows?\n",
    "\n",
    "1. You should probably use countplot instead of histplot.\n",
    "2. Use total number of kids (instead of kids at home)\n",
    "\n",
    "\n",
    "- Amongst the most expensive families to attract, most have 1 kid\n",
    "- Amongst the least expensive families to attract, most have 2 kids\n",
    "- The most expensive families to attract (on average) are those with 2 kids, though the difference is negligble (<2%)\n",
    "- The least expensive families to attract (on average) are those with 1 kid, though the difference is negligble (<2%)"
   ]
  },
  {
   "cell_type": "markdown",
   "id": "556811ec",
   "metadata": {},
   "source": [
    "## Amongst the most expensive families to attract, most have 1 kid\n",
    "\n",
    "`Yes`"
   ]
  },
  {
   "cell_type": "code",
   "execution_count": 51,
   "id": "49c7f046",
   "metadata": {},
   "outputs": [
    {
     "data": {
      "text/plain": [
       "149.75"
      ]
     },
     "execution_count": 51,
     "metadata": {},
     "output_type": "execute_result"
    }
   ],
   "source": [
    "df.cost.max()"
   ]
  },
  {
   "cell_type": "code",
   "execution_count": 52,
   "id": "609f9976",
   "metadata": {},
   "outputs": [
    {
     "data": {
      "text/plain": [
       "5.0     5\n",
       "0.0    11\n",
       "2.0    15\n",
       "3.0    20\n",
       "4.0    32\n",
       "1.0    36\n",
       "Name: total_children, dtype: int64"
      ]
     },
     "execution_count": 52,
     "metadata": {},
     "output_type": "execute_result"
    }
   ],
   "source": [
    "df.query('cost==149.75').total_children.value_counts().sort_values()"
   ]
  },
  {
   "cell_type": "markdown",
   "id": "9113b544",
   "metadata": {},
   "source": [
    "## Amongst the least expensive families to attract, most have 2 kids\n",
    "\n",
    "`Yes`"
   ]
  },
  {
   "cell_type": "code",
   "execution_count": 53,
   "id": "9fda1665",
   "metadata": {},
   "outputs": [
    {
     "data": {
      "text/plain": [
       "50.79"
      ]
     },
     "execution_count": 53,
     "metadata": {},
     "output_type": "execute_result"
    }
   ],
   "source": [
    "df.cost.min()"
   ]
  },
  {
   "cell_type": "code",
   "execution_count": 54,
   "id": "351a1568",
   "metadata": {},
   "outputs": [
    {
     "data": {
      "text/plain": [
       "5.0    12\n",
       "3.0    17\n",
       "1.0    27\n",
       "0.0    33\n",
       "4.0    43\n",
       "2.0    60\n",
       "Name: total_children, dtype: int64"
      ]
     },
     "execution_count": 54,
     "metadata": {},
     "output_type": "execute_result"
    }
   ],
   "source": [
    "df.query('cost==50.79').total_children.value_counts().sort_values()"
   ]
  },
  {
   "cell_type": "markdown",
   "id": "596e291e",
   "metadata": {},
   "source": [
    "## The most expensive families to attract (on average) are those with 2 kids, though the difference is negligble (<2%)\n",
    "\n",
    "`No`"
   ]
  },
  {
   "cell_type": "code",
   "execution_count": 55,
   "id": "36b8e46f",
   "metadata": {},
   "outputs": [
    {
     "data": {
      "text/plain": [
       "total_children\n",
       "2.0    98.713164\n",
       "4.0    98.724865\n",
       "3.0    99.554904\n",
       "5.0    99.682351\n",
       "0.0    99.814923\n",
       "1.0    99.975659\n",
       "Name: cost, dtype: float64"
      ]
     },
     "execution_count": 55,
     "metadata": {},
     "output_type": "execute_result"
    }
   ],
   "source": [
    "df.groupby('total_children')['cost'].mean().sort_values()"
   ]
  },
  {
   "cell_type": "markdown",
   "id": "f1e8282b",
   "metadata": {},
   "source": [
    "## The least expensive families to attract (on average) are those with 1 kid, though the difference is negligble (<2%)\n",
    "\n",
    "`No`"
   ]
  },
  {
   "cell_type": "code",
   "execution_count": 56,
   "id": "6ba64364",
   "metadata": {},
   "outputs": [
    {
     "data": {
      "text/plain": [
       "total_children\n",
       "2.0    98.713164\n",
       "4.0    98.724865\n",
       "3.0    99.554904\n",
       "5.0    99.682351\n",
       "0.0    99.814923\n",
       "1.0    99.975659\n",
       "Name: cost, dtype: float64"
      ]
     },
     "execution_count": 56,
     "metadata": {},
     "output_type": "execute_result"
    }
   ],
   "source": [
    "df.groupby('total_children')['cost'].mean().sort_values()"
   ]
  },
  {
   "cell_type": "code",
   "execution_count": null,
   "id": "228e131a",
   "metadata": {},
   "outputs": [],
   "source": []
  },
  {
   "cell_type": "markdown",
   "id": "7614e2b8",
   "metadata": {},
   "source": [
    "## Feel free to investigate other features"
   ]
  },
  {
   "cell_type": "code",
   "execution_count": null,
   "id": "8a837b33",
   "metadata": {},
   "outputs": [],
   "source": []
  },
  {
   "cell_type": "markdown",
   "id": "58134d33",
   "metadata": {},
   "source": [
    "# Building Machine Learning pipeline"
   ]
  },
  {
   "cell_type": "markdown",
   "id": "dcb661ae",
   "metadata": {},
   "source": [
    "- What are the proper performance metrics for this task?\n",
    "- Compare cross-validation performance of 5 ML models\n",
    "- Compute models' performance on test set\n",
    "- Analyse the generalizability of the model by comparing its performance on train and test sets\n",
    "- Comment on whether the resulting model is \"good\" or \"bad\" from business point of view"
   ]
  },
  {
   "cell_type": "markdown",
   "id": "cb798665",
   "metadata": {},
   "source": [
    "## Question 11. What are the proper performance metrics for this task?\n",
    "\n",
    "select all correct\n",
    "\n",
    " - **RMSLE**\n",
    " - **MAE**\n",
    " - Accuracy\n",
    " - ROC AUC"
   ]
  },
  {
   "cell_type": "code",
   "execution_count": null,
   "id": "fe30bc3f",
   "metadata": {},
   "outputs": [],
   "source": []
  },
  {
   "cell_type": "markdown",
   "id": "81ffa93c",
   "metadata": {},
   "source": [
    "## Split your data into Train and Test subsets using `train_test_split`, use 70% to 30% ratio for train and test.\n",
    "\n",
    "## Question 12.  How many observations are in your `train` set?\n",
    "\n",
    "- **35954**\n",
    "- 51363\n",
    "- 15409\n",
    "- 66772"
   ]
  },
  {
   "cell_type": "code",
   "execution_count": 57,
   "id": "19c97217",
   "metadata": {},
   "outputs": [],
   "source": [
    "from sklearn.model_selection import train_test_split"
   ]
  },
  {
   "cell_type": "code",
   "execution_count": 58,
   "id": "9093a715",
   "metadata": {},
   "outputs": [],
   "source": [
    "df_train, df_test = train_test_split(df, train_size=0.7)"
   ]
  },
  {
   "cell_type": "code",
   "execution_count": 59,
   "id": "71dec614",
   "metadata": {},
   "outputs": [
    {
     "data": {
      "text/plain": [
       "(35954, 16)"
      ]
     },
     "execution_count": 59,
     "metadata": {},
     "output_type": "execute_result"
    }
   ],
   "source": [
    "df_train.shape"
   ]
  },
  {
   "cell_type": "markdown",
   "id": "ba0a2d32",
   "metadata": {},
   "source": [
    "## We will compare the performance of 5 ML models:\n",
    "\n",
    "1. Linear Regression\n",
    "2. Decision Tree\n",
    "3. Random Forest\n",
    "4. KNN\n",
    "5. Gradient Boosting"
   ]
  },
  {
   "cell_type": "code",
   "execution_count": null,
   "id": "f72c7877",
   "metadata": {},
   "outputs": [],
   "source": []
  },
  {
   "cell_type": "markdown",
   "id": "9751277c",
   "metadata": {},
   "source": [
    "## Question 13. Which of the models require feature standartization?\n",
    "\n",
    "- **Linear Regression**\n",
    "- Decision Tree\n",
    "- Random Forest\n",
    "- **KNN**\n",
    "- Gradient Boosting\n",
    "\n",
    "> Tree based methods (DT, RF and GB) are not affected by feature standartization."
   ]
  },
  {
   "cell_type": "code",
   "execution_count": null,
   "id": "c911b094",
   "metadata": {},
   "outputs": [],
   "source": []
  },
  {
   "cell_type": "markdown",
   "id": "11a26388",
   "metadata": {},
   "source": [
    "## We will use `GridSearchCV` method to run 5 fold cross-validation and select models' hyperparameters\n",
    "\n",
    "see example below (on Iris dataset)\n",
    "\n",
    "https://scikit-learn.org/stable/modules/generated/sklearn.model_selection.GridSearchCV.html"
   ]
  },
  {
   "cell_type": "code",
   "execution_count": 60,
   "id": "daec05ee",
   "metadata": {},
   "outputs": [
    {
     "name": "stdout",
     "output_type": "stream",
     "text": [
      "0.9800000000000001\n"
     ]
    }
   ],
   "source": [
    "from sklearn import svm, datasets\n",
    "from sklearn.model_selection import GridSearchCV\n",
    "\n",
    "iris = datasets.load_iris()\n",
    "\n",
    "parameters = {'kernel':('linear', 'rbf'), 'C':[1, 10]}\n",
    "\n",
    "svc = svm.SVC()\n",
    "clf = GridSearchCV(svc, parameters, cv=5, scoring='accuracy', refit=True)\n",
    "clf.fit(iris.data, iris.target)\n",
    "print(clf.best_score_)"
   ]
  },
  {
   "cell_type": "code",
   "execution_count": null,
   "id": "ecb22821",
   "metadata": {},
   "outputs": [],
   "source": []
  },
  {
   "cell_type": "markdown",
   "id": "0a673d5a",
   "metadata": {},
   "source": [
    "## Explore hyperparameters of different ML models\n",
    "\n",
    "## Question 14. What does `fit_intercept` parameter responcible for in Linear Regression?\n",
    "\n",
    "- Controls the learning rate of the model\n",
    "- **Determines if a constant term should be included in the model**\n",
    "- Determines the type of regularization applied to the model\n",
    "- Specifies the maximum number of iterations during model training\n"
   ]
  },
  {
   "cell_type": "code",
   "execution_count": 61,
   "id": "9db10dc3",
   "metadata": {},
   "outputs": [],
   "source": [
    "from sklearn.linear_model import LinearRegression\n",
    "from sklearn.metrics import mean_squared_error"
   ]
  },
  {
   "cell_type": "code",
   "execution_count": 62,
   "id": "41ae71bc",
   "metadata": {},
   "outputs": [
    {
     "data": {
      "text/plain": [
       "LinearRegression()"
      ]
     },
     "execution_count": 62,
     "metadata": {},
     "output_type": "execute_result"
    }
   ],
   "source": [
    "LinearRegression()"
   ]
  },
  {
   "cell_type": "code",
   "execution_count": 63,
   "id": "53f754a3",
   "metadata": {},
   "outputs": [
    {
     "data": {
      "text/plain": [
       "890.1977314005563"
      ]
     },
     "execution_count": 63,
     "metadata": {},
     "output_type": "execute_result"
    }
   ],
   "source": [
    "lr = LinearRegression()\n",
    "\n",
    "lr.fit(df_train.drop('cost', axis=1), df_train['cost'])\n",
    "\n",
    "mean_squared_error(df_test['cost'], lr.predict(df_test.drop('cost', axis=1)))"
   ]
  },
  {
   "cell_type": "markdown",
   "id": "c9dcafbc",
   "metadata": {},
   "source": [
    "Train Linear Regression model using GridSearchCV, compare models with `fit_intercept=True` and `fit_intercept=False` "
   ]
  },
  {
   "cell_type": "markdown",
   "id": "7f5ee109",
   "metadata": {},
   "source": [
    "## Question 15. What does `max_depth` and `min_samples_split` responcible for in Decision Tree Regressor?\n",
    "\n",
    "- **max_depth controls the maximum depth of the tree and min_samples_split specifies the minimum number of samples required to split an internal node**\n",
    "- max_depth determines the type of criterion used for splitting and min_samples_split controls the learning rate of the model\n",
    "- max_depth specifies the maximum number of iterations during model training and min_samples_split controls the maximum depth of the tree\n",
    "- max_depth controls the minimum number of samples required to split an internal node and min_samples_split specifies the type of criterion used for splitting"
   ]
  },
  {
   "cell_type": "code",
   "execution_count": 64,
   "id": "e501897b",
   "metadata": {},
   "outputs": [],
   "source": [
    "from sklearn.tree import DecisionTreeRegressor"
   ]
  },
  {
   "cell_type": "code",
   "execution_count": 65,
   "id": "369142e8",
   "metadata": {},
   "outputs": [
    {
     "data": {
      "text/plain": [
       "DecisionTreeRegressor()"
      ]
     },
     "execution_count": 65,
     "metadata": {},
     "output_type": "execute_result"
    }
   ],
   "source": [
    "DecisionTreeRegressor()"
   ]
  },
  {
   "cell_type": "markdown",
   "id": "414512a5",
   "metadata": {},
   "source": [
    "Train Decision Tree Regressor model using GridSearchCV, ask ChatGPT for reasonable set of hyperparameters (`max_depth` and `min_samples_split`) values for search."
   ]
  },
  {
   "cell_type": "code",
   "execution_count": 66,
   "id": "cc944a11",
   "metadata": {},
   "outputs": [
    {
     "name": "stdout",
     "output_type": "stream",
     "text": [
      "Best Parameters:  {'max_depth': 5, 'min_samples_split': 10}\n",
      "Best Score:  -856.4908903190305\n"
     ]
    }
   ],
   "source": [
    "# Define the parameter grid\n",
    "param_grid = {\n",
    "    'max_depth': [3, 5, None],\n",
    "    'min_samples_split': [2, 5, 10]\n",
    "}\n",
    "\n",
    "# Create the Decision Tree Regressor\n",
    "dt = DecisionTreeRegressor()\n",
    "\n",
    "# Create the GridSearchCV object\n",
    "grid_search = GridSearchCV(estimator=dt, param_grid=param_grid, cv=5, scoring='neg_mean_squared_error')\n",
    "\n",
    "# Fit the GridSearchCV object to the data\n",
    "grid_search.fit(df_train.drop('cost', axis=1), df_train['cost'])\n",
    "\n",
    "# Retrieve the best parameters and best score\n",
    "best_params = grid_search.best_params_\n",
    "best_score = grid_search.best_score_\n",
    "\n",
    "print(\"Best Parameters: \", best_params)\n",
    "print(\"Best Score: \", best_score)"
   ]
  },
  {
   "cell_type": "code",
   "execution_count": 67,
   "id": "0beab017",
   "metadata": {},
   "outputs": [],
   "source": [
    "import numpy as np"
   ]
  },
  {
   "cell_type": "code",
   "execution_count": 68,
   "id": "f238965c",
   "metadata": {},
   "outputs": [
    {
     "data": {
      "text/plain": [
       "29.30870177950569"
      ]
     },
     "execution_count": 68,
     "metadata": {},
     "output_type": "execute_result"
    }
   ],
   "source": [
    "np.sqrt(859)"
   ]
  },
  {
   "cell_type": "code",
   "execution_count": 69,
   "id": "bd44b4fb",
   "metadata": {},
   "outputs": [
    {
     "data": {
      "image/png": "[encoded data removed]",
      "text/plain": [
       "<Figure size 640x480 with 1 Axes>"
      ]
     },
     "metadata": {},
     "output_type": "display_data"
    }
   ],
   "source": [
    "y_pred = grid_search.predict(df_test.drop('cost', axis=1))\n",
    "\n",
    "plt.scatter(df_test['cost'], y_pred)\n",
    "plt.plot([40,140], [40,140],c='r')\n",
    "plt.xlabel('True cost')\n",
    "plt.ylabel('Predicted cost');"
   ]
  },
  {
   "cell_type": "markdown",
   "id": "8c8d8055",
   "metadata": {},
   "source": [
    "## Question 16. What does `n_estimators` and `max_depth` responcible for in Random Forest Regressor?\n",
    "\n",
    "- **n_estimators controls the number of trees in the forest and max_depth determines the maximum depth of each tree**\n",
    "- n_estimators specifies the maximum number of iterations during model training and max_depth controls the minimum number of samples required to split an internal node\n",
    "- n_estimators determines the type of criterion used for splitting and max_depth controls the learning rate of the model\n",
    "- n_estimators controls the minimum number of samples required to split an internal node and max_depth specifies the type of criterion used for splitting"
   ]
  },
  {
   "cell_type": "code",
   "execution_count": 70,
   "id": "fe8c73e8",
   "metadata": {},
   "outputs": [],
   "source": [
    "from sklearn.ensemble import RandomForestRegressor"
   ]
  },
  {
   "cell_type": "code",
   "execution_count": 71,
   "id": "88bc361c",
   "metadata": {},
   "outputs": [
    {
     "data": {
      "text/plain": [
       "RandomForestRegressor()"
      ]
     },
     "execution_count": 71,
     "metadata": {},
     "output_type": "execute_result"
    }
   ],
   "source": [
    "RandomForestRegressor()"
   ]
  },
  {
   "cell_type": "markdown",
   "id": "2dc574ea",
   "metadata": {},
   "source": [
    "Train Random Forest Regressor model using GridSearchCV, ask ChatGPT for reasonable set of hyperparameters (`max_depth` and `n_estimators`) values for search.\n"
   ]
  },
  {
   "cell_type": "code",
   "execution_count": 72,
   "id": "7bef9023",
   "metadata": {},
   "outputs": [],
   "source": [
    "from sklearn.metrics import mean_squared_error, make_scorer"
   ]
  },
  {
   "cell_type": "code",
   "execution_count": 73,
   "id": "5e565502",
   "metadata": {},
   "outputs": [
    {
     "name": "stdout",
     "output_type": "stream",
     "text": [
      "Best Parameters:  {'max_depth': None, 'n_estimators': 10}\n",
      "Best MSE Score:  -977.2882939006358\n"
     ]
    }
   ],
   "source": [
    "# Define the parameter grid\n",
    "param_grid = {\n",
    "    'max_depth': [3, 5, 7, None],\n",
    "    'n_estimators': [10, 50, 100]\n",
    "}\n",
    "\n",
    "# Create the Random Forest Regressor\n",
    "rf = RandomForestRegressor()\n",
    "\n",
    "# Create the GridSearchCV object\n",
    "grid_search = GridSearchCV(estimator=rf, param_grid=param_grid,\n",
    "                           cv=5, scoring=make_scorer(mean_squared_error))\n",
    "\n",
    "# Fit the GridSearchCV object to the data\n",
    "grid_search.fit(df_train.drop('cost', axis=1), df_train['cost'])\n",
    "\n",
    "# Retrieve the best parameters and best score\n",
    "best_params = grid_search.best_params_\n",
    "best_score = -grid_search.best_score_  # convert back to positive\n",
    "\n",
    "print(\"Best Parameters: \", best_params)\n",
    "print(\"Best MSE Score: \", best_score)"
   ]
  },
  {
   "cell_type": "code",
   "execution_count": null,
   "id": "b843587b",
   "metadata": {},
   "outputs": [],
   "source": []
  },
  {
   "cell_type": "code",
   "execution_count": null,
   "id": "a055ce70",
   "metadata": {},
   "outputs": [],
   "source": []
  },
  {
   "cell_type": "markdown",
   "id": "ec7b119f",
   "metadata": {},
   "source": [
    "## Question 17. What does `n_neighbors` responcible for in K Neighbors Regressor?\n",
    "\n",
    "- **n_neighbors controls the number of neighbors to include in the majority voting process**\n",
    "- n_neighbors specifies the maximum number of iterations during model training\n",
    "- n_neighbors determines the type of distance metric used to calculate the similarity between data points\n",
    "- n_neighbors controls the learning rate of the model"
   ]
  },
  {
   "cell_type": "code",
   "execution_count": 74,
   "id": "3e1b7ba9",
   "metadata": {},
   "outputs": [],
   "source": [
    "from sklearn.neighbors import KNeighborsRegressor"
   ]
  },
  {
   "cell_type": "code",
   "execution_count": 75,
   "id": "2ecaa8f4",
   "metadata": {},
   "outputs": [
    {
     "data": {
      "text/plain": [
       "KNeighborsRegressor()"
      ]
     },
     "execution_count": 75,
     "metadata": {},
     "output_type": "execute_result"
    }
   ],
   "source": [
    "KNeighborsRegressor()"
   ]
  },
  {
   "cell_type": "markdown",
   "id": "24818de3",
   "metadata": {},
   "source": [
    "Train KNeighborsRegressor model using GridSearchCV, ask ChatGPT for reasonable set of hyperparameter `n_neighbors` values for search."
   ]
  },
  {
   "cell_type": "code",
   "execution_count": null,
   "id": "b9837432",
   "metadata": {},
   "outputs": [],
   "source": []
  },
  {
   "cell_type": "markdown",
   "id": "9b0be221",
   "metadata": {},
   "source": [
    "## Question 18. How `n_neighbors` affects KNN performance?\n",
    "\n",
    "-  **n_neighbors influences the model's balance between bias and variance, with a small value leading to low bias and high variance, and a large value leading to high bias and low variance**\n",
    "-  n_neighbors influences the model's balance between bias and variance, with a small value leading to high bias and low variance, and a large value leading to low bias and high variance\n",
    "-  n_neighbors influences the model's balance between bias and variance, with a small value leading to low bias and low variance, and a large value leading to high bias and high variance\n",
    "-  n_neighbors influences the model's balance between bias and variance, with a small value leading to high bias and high variance, and a large value leading to low bias and low variance\n"
   ]
  },
  {
   "cell_type": "code",
   "execution_count": null,
   "id": "8c09f25d",
   "metadata": {},
   "outputs": [],
   "source": []
  },
  {
   "cell_type": "markdown",
   "id": "ec3369f0",
   "metadata": {},
   "source": [
    "## Question 19. How `learning_rate` and `n_estimators` affect Gradient Boosting Regressor performance?\n",
    "\n",
    "\n",
    "- **learning_rate adjusts the contribution of each tree to the overall prediction, and n_estimators controls the number of trees in the ensemble, both affecting the model's balance between bias and variance**\n",
    "- learning_rate sets the depth of the decision trees used in the algorithm, while n_estimators determines the number of clusters in the data for clustering-based regression\n",
    "- learning_rate influences the regularization strength applied to the model, while n_estimators controls the number of neighbors to include in the majority of the voting process\n",
    "- learning_rate determines the type of distance metric used, and n_estimators controls the minimum number of samples required to split an internal node in the decision trees"
   ]
  },
  {
   "cell_type": "code",
   "execution_count": 76,
   "id": "cadda585",
   "metadata": {},
   "outputs": [],
   "source": [
    "from sklearn.ensemble import GradientBoostingRegressor"
   ]
  },
  {
   "cell_type": "code",
   "execution_count": 77,
   "id": "3901b95e",
   "metadata": {},
   "outputs": [
    {
     "name": "stdout",
     "output_type": "stream",
     "text": [
      "Fitting 5 folds for each of 18 candidates, totalling 90 fits\n",
      "Best Parameters:  {'learning_rate': 0.1, 'max_depth': 5, 'n_estimators': 50}\n",
      "Best MSE Score:  851.2103668437663\n"
     ]
    }
   ],
   "source": [
    "# Define the parameter grid\n",
    "param_grid = {\n",
    "    'learning_rate': [0.01, 0.1, 0.3],\n",
    "    'n_estimators': [50, 100],\n",
    "    'max_depth': [3, 5, 7]\n",
    "}\n",
    "\n",
    "# Create the Gradient Boosting Regressor\n",
    "gbr = GradientBoostingRegressor()\n",
    "\n",
    "# Create the GridSearchCV object\n",
    "grid_search = GridSearchCV(estimator=gbr, param_grid=param_grid, cv=5,\n",
    "                           scoring='neg_mean_squared_error', verbose=1, n_jobs=8)\n",
    "\n",
    "# Fit the GridSearchCV object to the data\n",
    "grid_search.fit(df_train.drop('cost', axis=1), df_train['cost'])\n",
    "\n",
    "# Retrieve the best parameters and best score\n",
    "best_params = grid_search.best_params_\n",
    "best_score = -grid_search.best_score_  # convert back to positive\n",
    "\n",
    "print(\"Best Parameters: \", best_params)\n",
    "print(\"Best MSE Score: \", best_score)"
   ]
  },
  {
   "cell_type": "markdown",
   "id": "1cd16302",
   "metadata": {},
   "source": [
    "Train Gradient Boosting Regressor model using GridSearchCV, ask ChatGPT for reasonable set of hyperparameters `learning_rate`, `n_estimators` and `max_depth` values for search. "
   ]
  },
  {
   "cell_type": "markdown",
   "id": "13dfc8cf",
   "metadata": {},
   "source": [
    "## Question 20. Test 5 ML models performance on Test set, which model perform the best?\n",
    "\n",
    "\n",
    "- Linear Regression\n",
    "- Decision Tree\n",
    "- Random Forest\n",
    "- KNN\n",
    "- Gradient Boosting\n"
   ]
  },
  {
   "cell_type": "code",
   "execution_count": 78,
   "id": "c61441f7",
   "metadata": {},
   "outputs": [
    {
     "data": {
      "text/plain": [
       "850.7319459913273"
      ]
     },
     "execution_count": 78,
     "metadata": {},
     "output_type": "execute_result"
    }
   ],
   "source": [
    "mean_squared_error(df_test['cost'], grid_search.predict(df_test.drop(['cost'], axis=1)), )"
   ]
  },
  {
   "cell_type": "code",
   "execution_count": 79,
   "id": "551e8363",
   "metadata": {},
   "outputs": [
    {
     "data": {
      "text/plain": [
       "28.965496715920477"
      ]
     },
     "execution_count": 79,
     "metadata": {},
     "output_type": "execute_result"
    }
   ],
   "source": [
    "np.sqrt(839)"
   ]
  },
  {
   "cell_type": "code",
   "execution_count": 80,
   "id": "833c800d",
   "metadata": {},
   "outputs": [],
   "source": [
    "from sklearn.metrics import mean_absolute_error, mean_absolute_percentage_error"
   ]
  },
  {
   "cell_type": "code",
   "execution_count": 81,
   "id": "29284e70",
   "metadata": {},
   "outputs": [
    {
     "data": {
      "text/plain": [
       "25.182532790972264"
      ]
     },
     "execution_count": 81,
     "metadata": {},
     "output_type": "execute_result"
    }
   ],
   "source": [
    "mean_absolute_error(df_test['cost'], grid_search.predict(df_test.drop(['cost'], axis=1)), )"
   ]
  },
  {
   "cell_type": "code",
   "execution_count": 82,
   "id": "9cc42326",
   "metadata": {},
   "outputs": [
    {
     "data": {
      "text/plain": [
       "0.29109556840094686"
      ]
     },
     "execution_count": 82,
     "metadata": {},
     "output_type": "execute_result"
    }
   ],
   "source": [
    "mean_absolute_percentage_error(df_test['cost'], grid_search.predict(df_test.drop(['cost'], axis=1)), )"
   ]
  },
  {
   "cell_type": "code",
   "execution_count": 83,
   "id": "2ee5d49e",
   "metadata": {},
   "outputs": [
    {
     "data": {
      "text/plain": [
       "1534466.2"
      ]
     },
     "execution_count": 83,
     "metadata": {},
     "output_type": "execute_result"
    }
   ],
   "source": [
    "df_test['cost'].sum()"
   ]
  },
  {
   "cell_type": "code",
   "execution_count": 84,
   "id": "89bc1903",
   "metadata": {},
   "outputs": [
    {
     "data": {
      "text/plain": [
       "1529312.3186113616"
      ]
     },
     "execution_count": 84,
     "metadata": {},
     "output_type": "execute_result"
    }
   ],
   "source": [
    "grid_search.predict(df_test.drop(['cost'], axis=1)).sum()"
   ]
  },
  {
   "cell_type": "code",
   "execution_count": 85,
   "id": "cc7ed58a",
   "metadata": {},
   "outputs": [
    {
     "data": {
      "text/plain": [
       "-5171"
      ]
     },
     "execution_count": 85,
     "metadata": {},
     "output_type": "execute_result"
    }
   ],
   "source": [
    "1527371 - 1532542"
   ]
  },
  {
   "cell_type": "code",
   "execution_count": 86,
   "id": "08281a3f",
   "metadata": {},
   "outputs": [
    {
     "data": {
      "text/plain": [
       "0.3385555965119149"
      ]
     },
     "execution_count": 86,
     "metadata": {},
     "output_type": "execute_result"
    }
   ],
   "source": [
    "5171 / 1527371 * 100\n",
    "# 0.33% < 1%"
   ]
  },
  {
   "cell_type": "code",
   "execution_count": 87,
   "id": "5d39fe6d",
   "metadata": {},
   "outputs": [
    {
     "data": {
      "text/plain": [
       "99.21760610780575"
      ]
     },
     "execution_count": 87,
     "metadata": {},
     "output_type": "execute_result"
    }
   ],
   "source": [
    "df_train['cost'].mean()"
   ]
  },
  {
   "cell_type": "code",
   "execution_count": 88,
   "id": "87988d51",
   "metadata": {},
   "outputs": [
    {
     "data": {
      "text/plain": [
       "[<matplotlib.lines.Line2D at 0x7f3ce3b80940>]"
      ]
     },
     "execution_count": 88,
     "metadata": {},
     "output_type": "execute_result"
    },
    {
     "data": {
      "image/png": "[encoded data removed]",
      "text/plain": [
       "<Figure size 640x480 with 1 Axes>"
      ]
     },
     "metadata": {},
     "output_type": "display_data"
    }
   ],
   "source": [
    "plt.scatter(df_test['cost'], grid_search.predict(df_test.drop(['cost'], axis=1)))\n",
    "plt.plot([60,120], [60,120], c='r')"
   ]
  },
  {
   "cell_type": "markdown",
   "id": "00006ff5",
   "metadata": {},
   "source": [
    "## Question 21. What is the `MAE` of the best perfroming model? (report `MAE` with 2 decimal places)"
   ]
  },
  {
   "cell_type": "code",
   "execution_count": null,
   "id": "c5b5400d",
   "metadata": {},
   "outputs": [],
   "source": []
  },
  {
   "cell_type": "markdown",
   "id": "996f6291",
   "metadata": {},
   "source": [
    "## Question 22. Comment on whether the resulting model is \"good\" or \"bad\" from business point of view, given that the mean cost is 99$"
   ]
  },
  {
   "cell_type": "markdown",
   "id": "dae780ce",
   "metadata": {},
   "source": [
    "There is no single correct answer to this question. One possible answer is the following. \n",
    "\n",
    "> Our best performing model has a mean absolute error of 25$, which is a 29% error averaged over all test customers. However, if our goal is to plan for the marketing budget for the whole test sample, the prediction based on our model is within 1 percent of true total budget, which is very accurate."
   ]
  },
  {
   "cell_type": "markdown",
   "id": "e6704522",
   "metadata": {},
   "source": [
    "## Upload your Jupyter Notebook or Orange project."
   ]
  },
  {
   "cell_type": "code",
   "execution_count": null,
   "id": "387028aa",
   "metadata": {},
   "outputs": [],
   "source": []
  }
 ],
 "metadata": {
  "kernelspec": {
   "display_name": "Python 3 (ipykernel)",
   "language": "python",
   "name": "python3"
  },
  "language_info": {
   "codemirror_mode": {
    "name": "ipython",
    "version": 3
   },
   "file_extension": ".py",
   "mimetype": "text/x-python",
   "name": "python",
   "nbconvert_exporter": "python",
   "pygments_lexer": "ipython3",
   "version": "3.9.13"
  }
 },
 "nbformat": 4,
 "nbformat_minor": 5
}
